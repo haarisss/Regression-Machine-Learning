{
 "cells": [
  {
   "cell_type": "markdown",
   "id": "084cb660",
   "metadata": {},
   "source": [
    "# CA1 REGRESSION"
   ]
  },
  {
   "cell_type": "markdown",
   "id": "d67a5335",
   "metadata": {},
   "source": [
    "## Importing Data"
   ]
  },
  {
   "cell_type": "code",
   "execution_count": 1,
   "id": "cacfa9a4",
   "metadata": {},
   "outputs": [],
   "source": [
    "import numpy as np\n",
    "import pandas as pd\n",
    "import seaborn as sns\n",
    "import matplotlib.pyplot as plt\n",
    "from sklearn.model_selection import train_test_split\n",
    "from sklearn.impute import SimpleImputer \n",
    "from sklearn.pipeline import Pipeline\n",
    "from sklearn.svm import SVC\n",
    "from sklearn.preprocessing import StandardScaler"
   ]
  },
  {
   "cell_type": "code",
   "execution_count": 2,
   "id": "e50c7550",
   "metadata": {},
   "outputs": [],
   "source": [
    "df = pd.read_csv(\"pc_data.csv\", sep= ',')"
   ]
  },
  {
   "cell_type": "markdown",
   "id": "3badd926",
   "metadata": {},
   "source": [
    "## Data Exploration"
   ]
  },
  {
   "cell_type": "code",
   "execution_count": 3,
   "id": "5cf765a1",
   "metadata": {},
   "outputs": [
    {
     "data": {
      "text/html": [
       "<div>\n",
       "<style scoped>\n",
       "    .dataframe tbody tr th:only-of-type {\n",
       "        vertical-align: middle;\n",
       "    }\n",
       "\n",
       "    .dataframe tbody tr th {\n",
       "        vertical-align: top;\n",
       "    }\n",
       "\n",
       "    .dataframe thead th {\n",
       "        text-align: right;\n",
       "    }\n",
       "</style>\n",
       "<table border=\"1\" class=\"dataframe\">\n",
       "  <thead>\n",
       "    <tr style=\"text-align: right;\">\n",
       "      <th></th>\n",
       "      <th>Product ID</th>\n",
       "      <th>Brand</th>\n",
       "      <th>Type</th>\n",
       "      <th>Screen Size</th>\n",
       "      <th>Screen Specs</th>\n",
       "      <th>CPU</th>\n",
       "      <th>RAM</th>\n",
       "      <th>Hard Disk</th>\n",
       "      <th>GPU</th>\n",
       "      <th>Operating System</th>\n",
       "      <th>Weight</th>\n",
       "      <th>Price ($)</th>\n",
       "    </tr>\n",
       "  </thead>\n",
       "  <tbody>\n",
       "    <tr>\n",
       "      <th>0</th>\n",
       "      <td>0</td>\n",
       "      <td>Apple</td>\n",
       "      <td>Ultrabook</td>\n",
       "      <td>13.3</td>\n",
       "      <td>IPS Panel Retina Display 2560x1600</td>\n",
       "      <td>Intel Core i5 2.3GHz</td>\n",
       "      <td>8GB</td>\n",
       "      <td>128GB SSD</td>\n",
       "      <td>Intel Iris Plus Graphics 640</td>\n",
       "      <td>macOS</td>\n",
       "      <td>1.37kg</td>\n",
       "      <td>3568.93416</td>\n",
       "    </tr>\n",
       "    <tr>\n",
       "      <th>1</th>\n",
       "      <td>1</td>\n",
       "      <td>Apple</td>\n",
       "      <td>Ultrabook</td>\n",
       "      <td>13.3</td>\n",
       "      <td>1440x900</td>\n",
       "      <td>Intel Core i5 1.8GHz</td>\n",
       "      <td>8GB</td>\n",
       "      <td>128GB Flash Storage</td>\n",
       "      <td>Intel HD Graphics 6000</td>\n",
       "      <td>macOS</td>\n",
       "      <td>1.34kg</td>\n",
       "      <td>2394.77616</td>\n",
       "    </tr>\n",
       "    <tr>\n",
       "      <th>2</th>\n",
       "      <td>2</td>\n",
       "      <td>HP</td>\n",
       "      <td>Notebook</td>\n",
       "      <td>15.6</td>\n",
       "      <td>Full HD 1920x1080</td>\n",
       "      <td>Intel Core i5 7200U 2.5GHz</td>\n",
       "      <td>8GB</td>\n",
       "      <td>256GB SSD</td>\n",
       "      <td>Intel HD Graphics 620</td>\n",
       "      <td>No OS</td>\n",
       "      <td>1.86kg</td>\n",
       "      <td>1531.80000</td>\n",
       "    </tr>\n",
       "    <tr>\n",
       "      <th>3</th>\n",
       "      <td>3</td>\n",
       "      <td>Apple</td>\n",
       "      <td>Ultrabook</td>\n",
       "      <td>15.4</td>\n",
       "      <td>IPS Panel Retina Display 2880x1800</td>\n",
       "      <td>Intel Core i7 2.7GHz</td>\n",
       "      <td>16GB</td>\n",
       "      <td>512GB SSD</td>\n",
       "      <td>AMD Radeon Pro 455</td>\n",
       "      <td>macOS</td>\n",
       "      <td>1.83kg</td>\n",
       "      <td>6759.76680</td>\n",
       "    </tr>\n",
       "    <tr>\n",
       "      <th>4</th>\n",
       "      <td>4</td>\n",
       "      <td>Apple</td>\n",
       "      <td>Ultrabook</td>\n",
       "      <td>13.3</td>\n",
       "      <td>IPS Panel Retina Display 2560x1600</td>\n",
       "      <td>Intel Core i5 3.1GHz</td>\n",
       "      <td>8GB</td>\n",
       "      <td>256GB SSD</td>\n",
       "      <td>Intel Iris Plus Graphics 650</td>\n",
       "      <td>macOS</td>\n",
       "      <td>1.37kg</td>\n",
       "      <td>4804.79040</td>\n",
       "    </tr>\n",
       "    <tr>\n",
       "      <th>5</th>\n",
       "      <td>5</td>\n",
       "      <td>Acer</td>\n",
       "      <td>Notebook</td>\n",
       "      <td>15.6</td>\n",
       "      <td>1366x768</td>\n",
       "      <td>AMD A9-Series 9420 3GHz</td>\n",
       "      <td>4GB</td>\n",
       "      <td>500GB HDD</td>\n",
       "      <td>AMD Radeon R5</td>\n",
       "      <td>Windows 10</td>\n",
       "      <td>2.1kg</td>\n",
       "      <td>1065.60000</td>\n",
       "    </tr>\n",
       "    <tr>\n",
       "      <th>6</th>\n",
       "      <td>6</td>\n",
       "      <td>Apple</td>\n",
       "      <td>Ultrabook</td>\n",
       "      <td>15.4</td>\n",
       "      <td>IPS Panel Retina Display 2880x1800</td>\n",
       "      <td>Intel Core i7 2.2GHz</td>\n",
       "      <td>16GB</td>\n",
       "      <td>256GB Flash Storage</td>\n",
       "      <td>Intel Iris Pro Graphics</td>\n",
       "      <td>Mac OS X</td>\n",
       "      <td>2.04kg</td>\n",
       "      <td>5700.88008</td>\n",
       "    </tr>\n",
       "    <tr>\n",
       "      <th>7</th>\n",
       "      <td>7</td>\n",
       "      <td>Apple</td>\n",
       "      <td>Ultrabook</td>\n",
       "      <td>13.3</td>\n",
       "      <td>1440x900</td>\n",
       "      <td>Intel Core i5 1.8GHz</td>\n",
       "      <td>8GB</td>\n",
       "      <td>256GB Flash Storage</td>\n",
       "      <td>Intel HD Graphics 6000</td>\n",
       "      <td>macOS</td>\n",
       "      <td>1.34kg</td>\n",
       "      <td>3086.77680</td>\n",
       "    </tr>\n",
       "    <tr>\n",
       "      <th>8</th>\n",
       "      <td>8</td>\n",
       "      <td>Asus</td>\n",
       "      <td>Ultrabook</td>\n",
       "      <td>14.0</td>\n",
       "      <td>Full HD 1920x1080</td>\n",
       "      <td>Intel Core i7 8550U 1.8GHz</td>\n",
       "      <td>16GB</td>\n",
       "      <td>512GB SSD</td>\n",
       "      <td>Nvidia GeForce MX150</td>\n",
       "      <td>Windows 10</td>\n",
       "      <td>1.3kg</td>\n",
       "      <td>3982.68000</td>\n",
       "    </tr>\n",
       "    <tr>\n",
       "      <th>9</th>\n",
       "      <td>9</td>\n",
       "      <td>Acer</td>\n",
       "      <td>Ultrabook</td>\n",
       "      <td>14.0</td>\n",
       "      <td>IPS Panel Full HD 1920x1080</td>\n",
       "      <td>Intel Core i5 8250U 1.6GHz</td>\n",
       "      <td>8GB</td>\n",
       "      <td>256GB SSD</td>\n",
       "      <td>Intel UHD Graphics 620</td>\n",
       "      <td>Windows 10</td>\n",
       "      <td>1.6kg</td>\n",
       "      <td>2051.28000</td>\n",
       "    </tr>\n",
       "  </tbody>\n",
       "</table>\n",
       "</div>"
      ],
      "text/plain": [
       "   Product ID  Brand       Type  Screen Size  \\\n",
       "0           0  Apple  Ultrabook         13.3   \n",
       "1           1  Apple  Ultrabook         13.3   \n",
       "2           2     HP   Notebook         15.6   \n",
       "3           3  Apple  Ultrabook         15.4   \n",
       "4           4  Apple  Ultrabook         13.3   \n",
       "5           5   Acer   Notebook         15.6   \n",
       "6           6  Apple  Ultrabook         15.4   \n",
       "7           7  Apple  Ultrabook         13.3   \n",
       "8           8   Asus  Ultrabook         14.0   \n",
       "9           9   Acer  Ultrabook         14.0   \n",
       "\n",
       "                         Screen Specs                         CPU   RAM  \\\n",
       "0  IPS Panel Retina Display 2560x1600        Intel Core i5 2.3GHz   8GB   \n",
       "1                            1440x900        Intel Core i5 1.8GHz   8GB   \n",
       "2                   Full HD 1920x1080  Intel Core i5 7200U 2.5GHz   8GB   \n",
       "3  IPS Panel Retina Display 2880x1800        Intel Core i7 2.7GHz  16GB   \n",
       "4  IPS Panel Retina Display 2560x1600        Intel Core i5 3.1GHz   8GB   \n",
       "5                            1366x768     AMD A9-Series 9420 3GHz   4GB   \n",
       "6  IPS Panel Retina Display 2880x1800        Intel Core i7 2.2GHz  16GB   \n",
       "7                            1440x900        Intel Core i5 1.8GHz   8GB   \n",
       "8                   Full HD 1920x1080  Intel Core i7 8550U 1.8GHz  16GB   \n",
       "9         IPS Panel Full HD 1920x1080  Intel Core i5 8250U 1.6GHz   8GB   \n",
       "\n",
       "             Hard Disk                           GPU Operating System  Weight  \\\n",
       "0            128GB SSD  Intel Iris Plus Graphics 640            macOS  1.37kg   \n",
       "1  128GB Flash Storage        Intel HD Graphics 6000            macOS  1.34kg   \n",
       "2            256GB SSD         Intel HD Graphics 620            No OS  1.86kg   \n",
       "3            512GB SSD            AMD Radeon Pro 455            macOS  1.83kg   \n",
       "4            256GB SSD  Intel Iris Plus Graphics 650            macOS  1.37kg   \n",
       "5            500GB HDD                 AMD Radeon R5       Windows 10   2.1kg   \n",
       "6  256GB Flash Storage       Intel Iris Pro Graphics         Mac OS X  2.04kg   \n",
       "7  256GB Flash Storage        Intel HD Graphics 6000            macOS  1.34kg   \n",
       "8            512GB SSD          Nvidia GeForce MX150       Windows 10   1.3kg   \n",
       "9            256GB SSD        Intel UHD Graphics 620       Windows 10   1.6kg   \n",
       "\n",
       "    Price ($)  \n",
       "0  3568.93416  \n",
       "1  2394.77616  \n",
       "2  1531.80000  \n",
       "3  6759.76680  \n",
       "4  4804.79040  \n",
       "5  1065.60000  \n",
       "6  5700.88008  \n",
       "7  3086.77680  \n",
       "8  3982.68000  \n",
       "9  2051.28000  "
      ]
     },
     "execution_count": 3,
     "metadata": {},
     "output_type": "execute_result"
    }
   ],
   "source": [
    "df.head(10)"
   ]
  },
  {
   "cell_type": "code",
   "execution_count": 4,
   "id": "0490dd3f",
   "metadata": {},
   "outputs": [
    {
     "data": {
      "text/plain": [
       "(15320, 12)"
      ]
     },
     "execution_count": 4,
     "metadata": {},
     "output_type": "execute_result"
    }
   ],
   "source": [
    "df.shape"
   ]
  },
  {
   "cell_type": "code",
   "execution_count": 5,
   "id": "7614f3cd",
   "metadata": {},
   "outputs": [
    {
     "data": {
      "text/plain": [
       "Product ID            int64\n",
       "Brand                object\n",
       "Type                 object\n",
       "Screen Size         float64\n",
       "Screen Specs         object\n",
       "CPU                  object\n",
       "RAM                  object\n",
       "Hard Disk            object\n",
       "GPU                  object\n",
       "Operating System     object\n",
       "Weight               object\n",
       "Price ($)           float64\n",
       "dtype: object"
      ]
     },
     "execution_count": 5,
     "metadata": {},
     "output_type": "execute_result"
    }
   ],
   "source": [
    "df.dtypes"
   ]
  },
  {
   "cell_type": "code",
   "execution_count": 6,
   "id": "cbb7b57f",
   "metadata": {},
   "outputs": [],
   "source": [
    "# we can see that there a lot of columns with datatype 'object' needs to be changed since it is neither integer or float"
   ]
  },
  {
   "cell_type": "code",
   "execution_count": 7,
   "id": "95509887",
   "metadata": {},
   "outputs": [
    {
     "data": {
      "text/plain": [
       "Product ID          15320\n",
       "Brand               15320\n",
       "Type                15320\n",
       "Screen Size         15320\n",
       "Screen Specs        15320\n",
       "CPU                 15320\n",
       "RAM                 15320\n",
       "Hard Disk           15320\n",
       "GPU                 15320\n",
       "Operating System    15320\n",
       "Weight              15320\n",
       "Price ($)           15320\n",
       "dtype: int64"
      ]
     },
     "execution_count": 7,
     "metadata": {},
     "output_type": "execute_result"
    }
   ],
   "source": [
    "df.count()"
   ]
  },
  {
   "cell_type": "code",
   "execution_count": 8,
   "id": "2bd1a0e8",
   "metadata": {},
   "outputs": [],
   "source": [
    "# All the rows have no missing values"
   ]
  },
  {
   "cell_type": "raw",
   "id": "376525b5",
   "metadata": {},
   "source": [
    "How is your prediction task defined? And what is the meaning of theoutput variable?"
   ]
  },
  {
   "cell_type": "raw",
   "id": "999e5368",
   "metadata": {},
   "source": [
    "The task is to predict the price of PCs based on their configuration. The output variable is the 'Price ($)' which refers to the\n",
    "price of the computers. I will be buiilding regression models to predict the price of different computers."
   ]
  },
  {
   "cell_type": "markdown",
   "id": "8ef6f157",
   "metadata": {},
   "source": [
    "## Data Cleaning"
   ]
  },
  {
   "cell_type": "code",
   "execution_count": 9,
   "id": "0dd2e79b",
   "metadata": {},
   "outputs": [],
   "source": [
    "# dropping product id because it is not needed"
   ]
  },
  {
   "cell_type": "code",
   "execution_count": 10,
   "id": "fa09776c",
   "metadata": {
    "scrolled": false
   },
   "outputs": [
    {
     "data": {
      "text/html": [
       "<div>\n",
       "<style scoped>\n",
       "    .dataframe tbody tr th:only-of-type {\n",
       "        vertical-align: middle;\n",
       "    }\n",
       "\n",
       "    .dataframe tbody tr th {\n",
       "        vertical-align: top;\n",
       "    }\n",
       "\n",
       "    .dataframe thead th {\n",
       "        text-align: right;\n",
       "    }\n",
       "</style>\n",
       "<table border=\"1\" class=\"dataframe\">\n",
       "  <thead>\n",
       "    <tr style=\"text-align: right;\">\n",
       "      <th></th>\n",
       "      <th>Brand</th>\n",
       "      <th>Type</th>\n",
       "      <th>Screen Size</th>\n",
       "      <th>Screen Specs</th>\n",
       "      <th>CPU</th>\n",
       "      <th>RAM</th>\n",
       "      <th>Hard Disk</th>\n",
       "      <th>GPU</th>\n",
       "      <th>Operating System</th>\n",
       "      <th>Weight</th>\n",
       "      <th>Price ($)</th>\n",
       "    </tr>\n",
       "  </thead>\n",
       "  <tbody>\n",
       "    <tr>\n",
       "      <th>0</th>\n",
       "      <td>Apple</td>\n",
       "      <td>Ultrabook</td>\n",
       "      <td>13.3</td>\n",
       "      <td>IPS Panel Retina Display 2560x1600</td>\n",
       "      <td>Intel Core i5 2.3GHz</td>\n",
       "      <td>8GB</td>\n",
       "      <td>128GB SSD</td>\n",
       "      <td>Intel Iris Plus Graphics 640</td>\n",
       "      <td>macOS</td>\n",
       "      <td>1.37kg</td>\n",
       "      <td>3568.93416</td>\n",
       "    </tr>\n",
       "    <tr>\n",
       "      <th>1</th>\n",
       "      <td>Apple</td>\n",
       "      <td>Ultrabook</td>\n",
       "      <td>13.3</td>\n",
       "      <td>1440x900</td>\n",
       "      <td>Intel Core i5 1.8GHz</td>\n",
       "      <td>8GB</td>\n",
       "      <td>128GB Flash Storage</td>\n",
       "      <td>Intel HD Graphics 6000</td>\n",
       "      <td>macOS</td>\n",
       "      <td>1.34kg</td>\n",
       "      <td>2394.77616</td>\n",
       "    </tr>\n",
       "  </tbody>\n",
       "</table>\n",
       "</div>"
      ],
      "text/plain": [
       "   Brand       Type  Screen Size                        Screen Specs  \\\n",
       "0  Apple  Ultrabook         13.3  IPS Panel Retina Display 2560x1600   \n",
       "1  Apple  Ultrabook         13.3                            1440x900   \n",
       "\n",
       "                    CPU  RAM            Hard Disk  \\\n",
       "0  Intel Core i5 2.3GHz  8GB            128GB SSD   \n",
       "1  Intel Core i5 1.8GHz  8GB  128GB Flash Storage   \n",
       "\n",
       "                            GPU Operating System  Weight   Price ($)  \n",
       "0  Intel Iris Plus Graphics 640            macOS  1.37kg  3568.93416  \n",
       "1        Intel HD Graphics 6000            macOS  1.34kg  2394.77616  "
      ]
     },
     "execution_count": 10,
     "metadata": {},
     "output_type": "execute_result"
    }
   ],
   "source": [
    "df2 = df.drop('Product ID',axis = 1)\n",
    "df2.head(2)"
   ]
  },
  {
   "cell_type": "code",
   "execution_count": 11,
   "id": "c35caf33",
   "metadata": {},
   "outputs": [
    {
     "data": {
      "text/plain": [
       "Brand               0\n",
       "Type                0\n",
       "Screen Size         0\n",
       "Screen Specs        0\n",
       "CPU                 0\n",
       "RAM                 0\n",
       "Hard Disk           0\n",
       "GPU                 0\n",
       "Operating System    0\n",
       "Weight              0\n",
       "Price ($)           0\n",
       "dtype: int64"
      ]
     },
     "execution_count": 11,
     "metadata": {},
     "output_type": "execute_result"
    }
   ],
   "source": [
    "df2.isna().sum()"
   ]
  },
  {
   "cell_type": "code",
   "execution_count": 12,
   "id": "8e57dd59",
   "metadata": {},
   "outputs": [],
   "source": [
    "# There are no null rows in this dataset"
   ]
  },
  {
   "cell_type": "markdown",
   "id": "ddfb183c",
   "metadata": {},
   "source": [
    "## Feature Engineering"
   ]
  },
  {
   "cell_type": "raw",
   "id": "fa0c5a3f",
   "metadata": {},
   "source": [
    "# Did you process the features in any way?\n",
    "Yes, for this dataset there is a lot of pre-processing to do. I wil have to make multiple new columns and drop many columns."
   ]
  },
  {
   "cell_type": "markdown",
   "id": "16979e51",
   "metadata": {},
   "source": [
    "### Weight"
   ]
  },
  {
   "cell_type": "code",
   "execution_count": 13,
   "id": "a010196b",
   "metadata": {},
   "outputs": [],
   "source": [
    "# I'm splitting weight and then dropping the unit column so that I only retain the number"
   ]
  },
  {
   "cell_type": "code",
   "execution_count": 14,
   "id": "6e1f2af7",
   "metadata": {},
   "outputs": [],
   "source": [
    "df2[['weight', 'unit']] = df['Weight'].str.split('kg', expand=True)"
   ]
  },
  {
   "cell_type": "code",
   "execution_count": 15,
   "id": "e91577e0",
   "metadata": {
    "scrolled": false
   },
   "outputs": [
    {
     "data": {
      "text/html": [
       "<div>\n",
       "<style scoped>\n",
       "    .dataframe tbody tr th:only-of-type {\n",
       "        vertical-align: middle;\n",
       "    }\n",
       "\n",
       "    .dataframe tbody tr th {\n",
       "        vertical-align: top;\n",
       "    }\n",
       "\n",
       "    .dataframe thead th {\n",
       "        text-align: right;\n",
       "    }\n",
       "</style>\n",
       "<table border=\"1\" class=\"dataframe\">\n",
       "  <thead>\n",
       "    <tr style=\"text-align: right;\">\n",
       "      <th></th>\n",
       "      <th>Brand</th>\n",
       "      <th>Type</th>\n",
       "      <th>Screen Size</th>\n",
       "      <th>Screen Specs</th>\n",
       "      <th>CPU</th>\n",
       "      <th>RAM</th>\n",
       "      <th>Hard Disk</th>\n",
       "      <th>GPU</th>\n",
       "      <th>Operating System</th>\n",
       "      <th>Weight</th>\n",
       "      <th>Price ($)</th>\n",
       "      <th>weight</th>\n",
       "    </tr>\n",
       "  </thead>\n",
       "  <tbody>\n",
       "    <tr>\n",
       "      <th>0</th>\n",
       "      <td>Apple</td>\n",
       "      <td>Ultrabook</td>\n",
       "      <td>13.3</td>\n",
       "      <td>IPS Panel Retina Display 2560x1600</td>\n",
       "      <td>Intel Core i5 2.3GHz</td>\n",
       "      <td>8GB</td>\n",
       "      <td>128GB SSD</td>\n",
       "      <td>Intel Iris Plus Graphics 640</td>\n",
       "      <td>macOS</td>\n",
       "      <td>1.37kg</td>\n",
       "      <td>3568.93416</td>\n",
       "      <td>1.37</td>\n",
       "    </tr>\n",
       "    <tr>\n",
       "      <th>1</th>\n",
       "      <td>Apple</td>\n",
       "      <td>Ultrabook</td>\n",
       "      <td>13.3</td>\n",
       "      <td>1440x900</td>\n",
       "      <td>Intel Core i5 1.8GHz</td>\n",
       "      <td>8GB</td>\n",
       "      <td>128GB Flash Storage</td>\n",
       "      <td>Intel HD Graphics 6000</td>\n",
       "      <td>macOS</td>\n",
       "      <td>1.34kg</td>\n",
       "      <td>2394.77616</td>\n",
       "      <td>1.34</td>\n",
       "    </tr>\n",
       "    <tr>\n",
       "      <th>2</th>\n",
       "      <td>HP</td>\n",
       "      <td>Notebook</td>\n",
       "      <td>15.6</td>\n",
       "      <td>Full HD 1920x1080</td>\n",
       "      <td>Intel Core i5 7200U 2.5GHz</td>\n",
       "      <td>8GB</td>\n",
       "      <td>256GB SSD</td>\n",
       "      <td>Intel HD Graphics 620</td>\n",
       "      <td>No OS</td>\n",
       "      <td>1.86kg</td>\n",
       "      <td>1531.80000</td>\n",
       "      <td>1.86</td>\n",
       "    </tr>\n",
       "  </tbody>\n",
       "</table>\n",
       "</div>"
      ],
      "text/plain": [
       "   Brand       Type  Screen Size                        Screen Specs  \\\n",
       "0  Apple  Ultrabook         13.3  IPS Panel Retina Display 2560x1600   \n",
       "1  Apple  Ultrabook         13.3                            1440x900   \n",
       "2     HP   Notebook         15.6                   Full HD 1920x1080   \n",
       "\n",
       "                          CPU  RAM            Hard Disk  \\\n",
       "0        Intel Core i5 2.3GHz  8GB            128GB SSD   \n",
       "1        Intel Core i5 1.8GHz  8GB  128GB Flash Storage   \n",
       "2  Intel Core i5 7200U 2.5GHz  8GB            256GB SSD   \n",
       "\n",
       "                            GPU Operating System  Weight   Price ($) weight  \n",
       "0  Intel Iris Plus Graphics 640            macOS  1.37kg  3568.93416   1.37  \n",
       "1        Intel HD Graphics 6000            macOS  1.34kg  2394.77616   1.34  \n",
       "2         Intel HD Graphics 620            No OS  1.86kg  1531.80000   1.86  "
      ]
     },
     "execution_count": 15,
     "metadata": {},
     "output_type": "execute_result"
    }
   ],
   "source": [
    "df2 = df2.drop(\"unit\", axis= 1)\n",
    "df2.head(3)"
   ]
  },
  {
   "cell_type": "code",
   "execution_count": 16,
   "id": "d171d832",
   "metadata": {},
   "outputs": [],
   "source": [
    "# I then drop the weight column because it is no longer needed"
   ]
  },
  {
   "cell_type": "code",
   "execution_count": 17,
   "id": "0549783e",
   "metadata": {},
   "outputs": [],
   "source": [
    "df2 = df2.drop(\"Weight\", axis= 1)"
   ]
  },
  {
   "cell_type": "code",
   "execution_count": 18,
   "id": "225f449e",
   "metadata": {},
   "outputs": [],
   "source": [
    "# here I am changing the datatype of the weight to float32 because it is still a string"
   ]
  },
  {
   "cell_type": "code",
   "execution_count": 19,
   "id": "c0ce5ffe",
   "metadata": {},
   "outputs": [],
   "source": [
    "df2['weight'] = df2['weight'].astype('float32')"
   ]
  },
  {
   "cell_type": "code",
   "execution_count": 20,
   "id": "515ff72f",
   "metadata": {},
   "outputs": [],
   "source": [
    "# I'll be splitting gpu into 5 columns and then dropping the other 4 to retain only the gpu brand"
   ]
  },
  {
   "cell_type": "markdown",
   "id": "bdca106f",
   "metadata": {},
   "source": [
    "### GPU"
   ]
  },
  {
   "cell_type": "code",
   "execution_count": 21,
   "id": "ec06a553",
   "metadata": {},
   "outputs": [
    {
     "data": {
      "text/html": [
       "<div>\n",
       "<style scoped>\n",
       "    .dataframe tbody tr th:only-of-type {\n",
       "        vertical-align: middle;\n",
       "    }\n",
       "\n",
       "    .dataframe tbody tr th {\n",
       "        vertical-align: top;\n",
       "    }\n",
       "\n",
       "    .dataframe thead th {\n",
       "        text-align: right;\n",
       "    }\n",
       "</style>\n",
       "<table border=\"1\" class=\"dataframe\">\n",
       "  <thead>\n",
       "    <tr style=\"text-align: right;\">\n",
       "      <th></th>\n",
       "      <th>Brand</th>\n",
       "      <th>Type</th>\n",
       "      <th>Screen Size</th>\n",
       "      <th>Screen Specs</th>\n",
       "      <th>CPU</th>\n",
       "      <th>RAM</th>\n",
       "      <th>Hard Disk</th>\n",
       "      <th>GPU</th>\n",
       "      <th>Operating System</th>\n",
       "      <th>Price ($)</th>\n",
       "      <th>weight</th>\n",
       "      <th>gpu brand</th>\n",
       "      <th>gpuspecs1</th>\n",
       "      <th>gpuspecs2</th>\n",
       "      <th>gpuspecs3</th>\n",
       "      <th>gpuspecs4</th>\n",
       "    </tr>\n",
       "  </thead>\n",
       "  <tbody>\n",
       "    <tr>\n",
       "      <th>0</th>\n",
       "      <td>Apple</td>\n",
       "      <td>Ultrabook</td>\n",
       "      <td>13.3</td>\n",
       "      <td>IPS Panel Retina Display 2560x1600</td>\n",
       "      <td>Intel Core i5 2.3GHz</td>\n",
       "      <td>8GB</td>\n",
       "      <td>128GB SSD</td>\n",
       "      <td>Intel Iris Plus Graphics 640</td>\n",
       "      <td>macOS</td>\n",
       "      <td>3568.93416</td>\n",
       "      <td>1.37</td>\n",
       "      <td>Intel</td>\n",
       "      <td>Iris</td>\n",
       "      <td>Plus</td>\n",
       "      <td>Graphics</td>\n",
       "      <td>640</td>\n",
       "    </tr>\n",
       "    <tr>\n",
       "      <th>1</th>\n",
       "      <td>Apple</td>\n",
       "      <td>Ultrabook</td>\n",
       "      <td>13.3</td>\n",
       "      <td>1440x900</td>\n",
       "      <td>Intel Core i5 1.8GHz</td>\n",
       "      <td>8GB</td>\n",
       "      <td>128GB Flash Storage</td>\n",
       "      <td>Intel HD Graphics 6000</td>\n",
       "      <td>macOS</td>\n",
       "      <td>2394.77616</td>\n",
       "      <td>1.34</td>\n",
       "      <td>Intel</td>\n",
       "      <td>HD</td>\n",
       "      <td>Graphics</td>\n",
       "      <td>6000</td>\n",
       "      <td>None</td>\n",
       "    </tr>\n",
       "  </tbody>\n",
       "</table>\n",
       "</div>"
      ],
      "text/plain": [
       "   Brand       Type  Screen Size                        Screen Specs  \\\n",
       "0  Apple  Ultrabook         13.3  IPS Panel Retina Display 2560x1600   \n",
       "1  Apple  Ultrabook         13.3                            1440x900   \n",
       "\n",
       "                    CPU  RAM            Hard Disk  \\\n",
       "0  Intel Core i5 2.3GHz  8GB            128GB SSD   \n",
       "1  Intel Core i5 1.8GHz  8GB  128GB Flash Storage   \n",
       "\n",
       "                            GPU Operating System   Price ($)  weight  \\\n",
       "0  Intel Iris Plus Graphics 640            macOS  3568.93416    1.37   \n",
       "1        Intel HD Graphics 6000            macOS  2394.77616    1.34   \n",
       "\n",
       "  gpu brand gpuspecs1 gpuspecs2 gpuspecs3 gpuspecs4  \n",
       "0     Intel      Iris      Plus  Graphics       640  \n",
       "1     Intel        HD  Graphics      6000      None  "
      ]
     },
     "execution_count": 21,
     "metadata": {},
     "output_type": "execute_result"
    }
   ],
   "source": [
    "df2[['gpu brand','gpuspecs1','gpuspecs2','gpuspecs3','gpuspecs4']] = df2['GPU'].str.split(' ',expand = True)\n",
    "df2.head(2)"
   ]
  },
  {
   "cell_type": "code",
   "execution_count": 22,
   "id": "a5a2ac18",
   "metadata": {},
   "outputs": [],
   "source": [
    "df2 = df2.drop(['gpuspecs1','gpuspecs2','gpuspecs3','gpuspecs4'], axis =1)\n",
    "df2 = df2.drop('GPU', axis = 1)"
   ]
  },
  {
   "cell_type": "code",
   "execution_count": 23,
   "id": "e32f9bea",
   "metadata": {
    "scrolled": false
   },
   "outputs": [
    {
     "data": {
      "text/html": [
       "<div>\n",
       "<style scoped>\n",
       "    .dataframe tbody tr th:only-of-type {\n",
       "        vertical-align: middle;\n",
       "    }\n",
       "\n",
       "    .dataframe tbody tr th {\n",
       "        vertical-align: top;\n",
       "    }\n",
       "\n",
       "    .dataframe thead th {\n",
       "        text-align: right;\n",
       "    }\n",
       "</style>\n",
       "<table border=\"1\" class=\"dataframe\">\n",
       "  <thead>\n",
       "    <tr style=\"text-align: right;\">\n",
       "      <th></th>\n",
       "      <th>Brand</th>\n",
       "      <th>Type</th>\n",
       "      <th>Screen Size</th>\n",
       "      <th>Screen Specs</th>\n",
       "      <th>CPU</th>\n",
       "      <th>RAM</th>\n",
       "      <th>Hard Disk</th>\n",
       "      <th>Operating System</th>\n",
       "      <th>Price ($)</th>\n",
       "      <th>weight</th>\n",
       "      <th>gpu brand</th>\n",
       "    </tr>\n",
       "  </thead>\n",
       "  <tbody>\n",
       "    <tr>\n",
       "      <th>0</th>\n",
       "      <td>Apple</td>\n",
       "      <td>Ultrabook</td>\n",
       "      <td>13.3</td>\n",
       "      <td>IPS Panel Retina Display 2560x1600</td>\n",
       "      <td>Intel Core i5 2.3GHz</td>\n",
       "      <td>8GB</td>\n",
       "      <td>128GB SSD</td>\n",
       "      <td>macOS</td>\n",
       "      <td>3568.93416</td>\n",
       "      <td>1.37</td>\n",
       "      <td>Intel</td>\n",
       "    </tr>\n",
       "    <tr>\n",
       "      <th>1</th>\n",
       "      <td>Apple</td>\n",
       "      <td>Ultrabook</td>\n",
       "      <td>13.3</td>\n",
       "      <td>1440x900</td>\n",
       "      <td>Intel Core i5 1.8GHz</td>\n",
       "      <td>8GB</td>\n",
       "      <td>128GB Flash Storage</td>\n",
       "      <td>macOS</td>\n",
       "      <td>2394.77616</td>\n",
       "      <td>1.34</td>\n",
       "      <td>Intel</td>\n",
       "    </tr>\n",
       "  </tbody>\n",
       "</table>\n",
       "</div>"
      ],
      "text/plain": [
       "   Brand       Type  Screen Size                        Screen Specs  \\\n",
       "0  Apple  Ultrabook         13.3  IPS Panel Retina Display 2560x1600   \n",
       "1  Apple  Ultrabook         13.3                            1440x900   \n",
       "\n",
       "                    CPU  RAM            Hard Disk Operating System  \\\n",
       "0  Intel Core i5 2.3GHz  8GB            128GB SSD            macOS   \n",
       "1  Intel Core i5 1.8GHz  8GB  128GB Flash Storage            macOS   \n",
       "\n",
       "    Price ($)  weight gpu brand  \n",
       "0  3568.93416    1.37     Intel  \n",
       "1  2394.77616    1.34     Intel  "
      ]
     },
     "execution_count": 23,
     "metadata": {},
     "output_type": "execute_result"
    }
   ],
   "source": [
    "df2.head(2)"
   ]
  },
  {
   "cell_type": "code",
   "execution_count": 24,
   "id": "1b0f4c6f",
   "metadata": {},
   "outputs": [
    {
     "data": {
      "text/plain": [
       "array(['Intel', 'AMD', 'Nvidia', 'ARM'], dtype=object)"
      ]
     },
     "execution_count": 24,
     "metadata": {},
     "output_type": "execute_result"
    }
   ],
   "source": [
    "df2['gpu brand'].unique()"
   ]
  },
  {
   "cell_type": "code",
   "execution_count": 25,
   "id": "54bd8f7f",
   "metadata": {},
   "outputs": [],
   "source": [
    "# assigning a number to each type of grpu brand and then converting it to numeral datatype using pd.to_numeric"
   ]
  },
  {
   "cell_type": "code",
   "execution_count": 26,
   "id": "7532ae73",
   "metadata": {},
   "outputs": [],
   "source": [
    "df2.loc[df2['gpu brand'] == 'Intel', 'gpu brand'] = 1\n",
    "df2.loc[df2['gpu brand'] == 'AMD', 'gpu brand'] = 2\n",
    "df2.loc[df2['gpu brand'] == 'Nvidia', 'gpu brand'] = 3\n",
    "df2.loc[df2['gpu brand'] == 'ARM', 'gpu brand'] = 4"
   ]
  },
  {
   "cell_type": "code",
   "execution_count": 27,
   "id": "2c8b6197",
   "metadata": {},
   "outputs": [],
   "source": [
    "df2['gpu brand'] = df2['gpu brand'].apply(pd.to_numeric)"
   ]
  },
  {
   "cell_type": "code",
   "execution_count": 28,
   "id": "f701d3b8",
   "metadata": {
    "scrolled": false
   },
   "outputs": [
    {
     "data": {
      "text/html": [
       "<div>\n",
       "<style scoped>\n",
       "    .dataframe tbody tr th:only-of-type {\n",
       "        vertical-align: middle;\n",
       "    }\n",
       "\n",
       "    .dataframe tbody tr th {\n",
       "        vertical-align: top;\n",
       "    }\n",
       "\n",
       "    .dataframe thead th {\n",
       "        text-align: right;\n",
       "    }\n",
       "</style>\n",
       "<table border=\"1\" class=\"dataframe\">\n",
       "  <thead>\n",
       "    <tr style=\"text-align: right;\">\n",
       "      <th></th>\n",
       "      <th>Brand</th>\n",
       "      <th>Type</th>\n",
       "      <th>Screen Size</th>\n",
       "      <th>Screen Specs</th>\n",
       "      <th>CPU</th>\n",
       "      <th>RAM</th>\n",
       "      <th>Hard Disk</th>\n",
       "      <th>Operating System</th>\n",
       "      <th>Price ($)</th>\n",
       "      <th>weight</th>\n",
       "      <th>gpu brand</th>\n",
       "    </tr>\n",
       "  </thead>\n",
       "  <tbody>\n",
       "    <tr>\n",
       "      <th>0</th>\n",
       "      <td>Apple</td>\n",
       "      <td>Ultrabook</td>\n",
       "      <td>13.3</td>\n",
       "      <td>IPS Panel Retina Display 2560x1600</td>\n",
       "      <td>Intel Core i5 2.3GHz</td>\n",
       "      <td>8GB</td>\n",
       "      <td>128GB SSD</td>\n",
       "      <td>macOS</td>\n",
       "      <td>3568.93416</td>\n",
       "      <td>1.37</td>\n",
       "      <td>1</td>\n",
       "    </tr>\n",
       "    <tr>\n",
       "      <th>1</th>\n",
       "      <td>Apple</td>\n",
       "      <td>Ultrabook</td>\n",
       "      <td>13.3</td>\n",
       "      <td>1440x900</td>\n",
       "      <td>Intel Core i5 1.8GHz</td>\n",
       "      <td>8GB</td>\n",
       "      <td>128GB Flash Storage</td>\n",
       "      <td>macOS</td>\n",
       "      <td>2394.77616</td>\n",
       "      <td>1.34</td>\n",
       "      <td>1</td>\n",
       "    </tr>\n",
       "    <tr>\n",
       "      <th>2</th>\n",
       "      <td>HP</td>\n",
       "      <td>Notebook</td>\n",
       "      <td>15.6</td>\n",
       "      <td>Full HD 1920x1080</td>\n",
       "      <td>Intel Core i5 7200U 2.5GHz</td>\n",
       "      <td>8GB</td>\n",
       "      <td>256GB SSD</td>\n",
       "      <td>No OS</td>\n",
       "      <td>1531.80000</td>\n",
       "      <td>1.86</td>\n",
       "      <td>1</td>\n",
       "    </tr>\n",
       "    <tr>\n",
       "      <th>3</th>\n",
       "      <td>Apple</td>\n",
       "      <td>Ultrabook</td>\n",
       "      <td>15.4</td>\n",
       "      <td>IPS Panel Retina Display 2880x1800</td>\n",
       "      <td>Intel Core i7 2.7GHz</td>\n",
       "      <td>16GB</td>\n",
       "      <td>512GB SSD</td>\n",
       "      <td>macOS</td>\n",
       "      <td>6759.76680</td>\n",
       "      <td>1.83</td>\n",
       "      <td>2</td>\n",
       "    </tr>\n",
       "  </tbody>\n",
       "</table>\n",
       "</div>"
      ],
      "text/plain": [
       "   Brand       Type  Screen Size                        Screen Specs  \\\n",
       "0  Apple  Ultrabook         13.3  IPS Panel Retina Display 2560x1600   \n",
       "1  Apple  Ultrabook         13.3                            1440x900   \n",
       "2     HP   Notebook         15.6                   Full HD 1920x1080   \n",
       "3  Apple  Ultrabook         15.4  IPS Panel Retina Display 2880x1800   \n",
       "\n",
       "                          CPU   RAM            Hard Disk Operating System  \\\n",
       "0        Intel Core i5 2.3GHz   8GB            128GB SSD            macOS   \n",
       "1        Intel Core i5 1.8GHz   8GB  128GB Flash Storage            macOS   \n",
       "2  Intel Core i5 7200U 2.5GHz   8GB            256GB SSD            No OS   \n",
       "3        Intel Core i7 2.7GHz  16GB            512GB SSD            macOS   \n",
       "\n",
       "    Price ($)  weight  gpu brand  \n",
       "0  3568.93416    1.37          1  \n",
       "1  2394.77616    1.34          1  \n",
       "2  1531.80000    1.86          1  \n",
       "3  6759.76680    1.83          2  "
      ]
     },
     "execution_count": 28,
     "metadata": {},
     "output_type": "execute_result"
    }
   ],
   "source": [
    "df2.head(4) "
   ]
  },
  {
   "cell_type": "markdown",
   "id": "43660b2e",
   "metadata": {},
   "source": [
    "### Screen Specs"
   ]
  },
  {
   "cell_type": "code",
   "execution_count": 29,
   "id": "a0f166dd",
   "metadata": {},
   "outputs": [],
   "source": [
    "#  I extracted the screen dimension from Screen Specs"
   ]
  },
  {
   "cell_type": "code",
   "execution_count": 30,
   "id": "e11d14b8",
   "metadata": {
    "scrolled": true
   },
   "outputs": [
    {
     "data": {
      "text/html": [
       "<div>\n",
       "<style scoped>\n",
       "    .dataframe tbody tr th:only-of-type {\n",
       "        vertical-align: middle;\n",
       "    }\n",
       "\n",
       "    .dataframe tbody tr th {\n",
       "        vertical-align: top;\n",
       "    }\n",
       "\n",
       "    .dataframe thead th {\n",
       "        text-align: right;\n",
       "    }\n",
       "</style>\n",
       "<table border=\"1\" class=\"dataframe\">\n",
       "  <thead>\n",
       "    <tr style=\"text-align: right;\">\n",
       "      <th></th>\n",
       "      <th>Brand</th>\n",
       "      <th>Type</th>\n",
       "      <th>Screen Size</th>\n",
       "      <th>Screen Specs</th>\n",
       "      <th>CPU</th>\n",
       "      <th>RAM</th>\n",
       "      <th>Hard Disk</th>\n",
       "      <th>Operating System</th>\n",
       "      <th>Price ($)</th>\n",
       "      <th>weight</th>\n",
       "      <th>gpu brand</th>\n",
       "      <th>Screen dimension</th>\n",
       "    </tr>\n",
       "  </thead>\n",
       "  <tbody>\n",
       "    <tr>\n",
       "      <th>0</th>\n",
       "      <td>Apple</td>\n",
       "      <td>Ultrabook</td>\n",
       "      <td>13.3</td>\n",
       "      <td>IPS Panel Retina Display 2560x1600</td>\n",
       "      <td>Intel Core i5 2.3GHz</td>\n",
       "      <td>8GB</td>\n",
       "      <td>128GB SSD</td>\n",
       "      <td>macOS</td>\n",
       "      <td>3568.93416</td>\n",
       "      <td>1.37</td>\n",
       "      <td>1</td>\n",
       "      <td>2560x1600</td>\n",
       "    </tr>\n",
       "    <tr>\n",
       "      <th>1</th>\n",
       "      <td>Apple</td>\n",
       "      <td>Ultrabook</td>\n",
       "      <td>13.3</td>\n",
       "      <td>1440x900</td>\n",
       "      <td>Intel Core i5 1.8GHz</td>\n",
       "      <td>8GB</td>\n",
       "      <td>128GB Flash Storage</td>\n",
       "      <td>macOS</td>\n",
       "      <td>2394.77616</td>\n",
       "      <td>1.34</td>\n",
       "      <td>1</td>\n",
       "      <td>1440x900</td>\n",
       "    </tr>\n",
       "    <tr>\n",
       "      <th>2</th>\n",
       "      <td>HP</td>\n",
       "      <td>Notebook</td>\n",
       "      <td>15.6</td>\n",
       "      <td>Full HD 1920x1080</td>\n",
       "      <td>Intel Core i5 7200U 2.5GHz</td>\n",
       "      <td>8GB</td>\n",
       "      <td>256GB SSD</td>\n",
       "      <td>No OS</td>\n",
       "      <td>1531.80000</td>\n",
       "      <td>1.86</td>\n",
       "      <td>1</td>\n",
       "      <td>1920x1080</td>\n",
       "    </tr>\n",
       "  </tbody>\n",
       "</table>\n",
       "</div>"
      ],
      "text/plain": [
       "   Brand       Type  Screen Size                        Screen Specs  \\\n",
       "0  Apple  Ultrabook         13.3  IPS Panel Retina Display 2560x1600   \n",
       "1  Apple  Ultrabook         13.3                            1440x900   \n",
       "2     HP   Notebook         15.6                   Full HD 1920x1080   \n",
       "\n",
       "                          CPU  RAM            Hard Disk Operating System  \\\n",
       "0        Intel Core i5 2.3GHz  8GB            128GB SSD            macOS   \n",
       "1        Intel Core i5 1.8GHz  8GB  128GB Flash Storage            macOS   \n",
       "2  Intel Core i5 7200U 2.5GHz  8GB            256GB SSD            No OS   \n",
       "\n",
       "    Price ($)  weight  gpu brand Screen dimension  \n",
       "0  3568.93416    1.37          1        2560x1600  \n",
       "1  2394.77616    1.34          1         1440x900  \n",
       "2  1531.80000    1.86          1        1920x1080  "
      ]
     },
     "execution_count": 30,
     "metadata": {},
     "output_type": "execute_result"
    }
   ],
   "source": [
    "df2['Screen dimension'] = df2['Screen Specs'].str.extract(r'(\\d\\d\\d\\dx\\d\\d\\d\\d?)')\n",
    "df2.head(3)"
   ]
  },
  {
   "cell_type": "code",
   "execution_count": 31,
   "id": "9e92ab21",
   "metadata": {},
   "outputs": [],
   "source": [
    "# I then further splitted the screen dimension to obtain a x and y resolution afterwhich I had to change the datatype also \n",
    "# because it is still a string"
   ]
  },
  {
   "cell_type": "code",
   "execution_count": 32,
   "id": "2d51f840",
   "metadata": {},
   "outputs": [],
   "source": [
    "df2[['x_res','y_res']] = df2['Screen dimension'].str.split('x', expand = True)"
   ]
  },
  {
   "cell_type": "code",
   "execution_count": 33,
   "id": "be48669e",
   "metadata": {},
   "outputs": [],
   "source": [
    "df2['x_res'] = df2['x_res'].apply(pd.to_numeric)\n",
    "df2['y_res'] = df2['y_res'].apply(pd.to_numeric)"
   ]
  },
  {
   "cell_type": "code",
   "execution_count": 34,
   "id": "fc1b1113",
   "metadata": {},
   "outputs": [],
   "source": [
    "# I dropped screen dimension because I no longer need it "
   ]
  },
  {
   "cell_type": "code",
   "execution_count": 35,
   "id": "24e2a895",
   "metadata": {},
   "outputs": [],
   "source": [
    "df2 = df2.drop('Screen dimension', axis=1)"
   ]
  },
  {
   "cell_type": "code",
   "execution_count": 36,
   "id": "6de8e08b",
   "metadata": {
    "scrolled": true
   },
   "outputs": [
    {
     "data": {
      "text/html": [
       "<div>\n",
       "<style scoped>\n",
       "    .dataframe tbody tr th:only-of-type {\n",
       "        vertical-align: middle;\n",
       "    }\n",
       "\n",
       "    .dataframe tbody tr th {\n",
       "        vertical-align: top;\n",
       "    }\n",
       "\n",
       "    .dataframe thead th {\n",
       "        text-align: right;\n",
       "    }\n",
       "</style>\n",
       "<table border=\"1\" class=\"dataframe\">\n",
       "  <thead>\n",
       "    <tr style=\"text-align: right;\">\n",
       "      <th></th>\n",
       "      <th>Brand</th>\n",
       "      <th>Type</th>\n",
       "      <th>Screen Size</th>\n",
       "      <th>Screen Specs</th>\n",
       "      <th>CPU</th>\n",
       "      <th>RAM</th>\n",
       "      <th>Hard Disk</th>\n",
       "      <th>Operating System</th>\n",
       "      <th>Price ($)</th>\n",
       "      <th>weight</th>\n",
       "      <th>gpu brand</th>\n",
       "      <th>x_res</th>\n",
       "      <th>y_res</th>\n",
       "    </tr>\n",
       "  </thead>\n",
       "  <tbody>\n",
       "    <tr>\n",
       "      <th>0</th>\n",
       "      <td>Apple</td>\n",
       "      <td>Ultrabook</td>\n",
       "      <td>13.3</td>\n",
       "      <td>IPS Panel Retina Display 2560x1600</td>\n",
       "      <td>Intel Core i5 2.3GHz</td>\n",
       "      <td>8GB</td>\n",
       "      <td>128GB SSD</td>\n",
       "      <td>macOS</td>\n",
       "      <td>3568.93416</td>\n",
       "      <td>1.37</td>\n",
       "      <td>1</td>\n",
       "      <td>2560</td>\n",
       "      <td>1600</td>\n",
       "    </tr>\n",
       "    <tr>\n",
       "      <th>1</th>\n",
       "      <td>Apple</td>\n",
       "      <td>Ultrabook</td>\n",
       "      <td>13.3</td>\n",
       "      <td>1440x900</td>\n",
       "      <td>Intel Core i5 1.8GHz</td>\n",
       "      <td>8GB</td>\n",
       "      <td>128GB Flash Storage</td>\n",
       "      <td>macOS</td>\n",
       "      <td>2394.77616</td>\n",
       "      <td>1.34</td>\n",
       "      <td>1</td>\n",
       "      <td>1440</td>\n",
       "      <td>900</td>\n",
       "    </tr>\n",
       "    <tr>\n",
       "      <th>2</th>\n",
       "      <td>HP</td>\n",
       "      <td>Notebook</td>\n",
       "      <td>15.6</td>\n",
       "      <td>Full HD 1920x1080</td>\n",
       "      <td>Intel Core i5 7200U 2.5GHz</td>\n",
       "      <td>8GB</td>\n",
       "      <td>256GB SSD</td>\n",
       "      <td>No OS</td>\n",
       "      <td>1531.80000</td>\n",
       "      <td>1.86</td>\n",
       "      <td>1</td>\n",
       "      <td>1920</td>\n",
       "      <td>1080</td>\n",
       "    </tr>\n",
       "  </tbody>\n",
       "</table>\n",
       "</div>"
      ],
      "text/plain": [
       "   Brand       Type  Screen Size                        Screen Specs  \\\n",
       "0  Apple  Ultrabook         13.3  IPS Panel Retina Display 2560x1600   \n",
       "1  Apple  Ultrabook         13.3                            1440x900   \n",
       "2     HP   Notebook         15.6                   Full HD 1920x1080   \n",
       "\n",
       "                          CPU  RAM            Hard Disk Operating System  \\\n",
       "0        Intel Core i5 2.3GHz  8GB            128GB SSD            macOS   \n",
       "1        Intel Core i5 1.8GHz  8GB  128GB Flash Storage            macOS   \n",
       "2  Intel Core i5 7200U 2.5GHz  8GB            256GB SSD            No OS   \n",
       "\n",
       "    Price ($)  weight  gpu brand  x_res  y_res  \n",
       "0  3568.93416    1.37          1   2560   1600  \n",
       "1  2394.77616    1.34          1   1440    900  \n",
       "2  1531.80000    1.86          1   1920   1080  "
      ]
     },
     "execution_count": 36,
     "metadata": {},
     "output_type": "execute_result"
    }
   ],
   "source": [
    "df2.head(3)"
   ]
  },
  {
   "cell_type": "code",
   "execution_count": 37,
   "id": "992c7134",
   "metadata": {},
   "outputs": [],
   "source": [
    "# Based on logical thinking, one can assume that whether the screen is touchscreen or not will obviously predict the price\n",
    "# I also think that IPS panel display will affect the price and thus I made 2 new columns and did hot encoding. "
   ]
  },
  {
   "cell_type": "code",
   "execution_count": 38,
   "id": "fd8f2307",
   "metadata": {},
   "outputs": [],
   "source": [
    "df2['Touchscreen'] = df2['Screen Specs'].apply(lambda x:1 if 'Touchscreen' in x else 0)\n",
    "df2['IPS'] = df2['Screen Specs'].apply(lambda x:1 if 'IPS' in x else 0)"
   ]
  },
  {
   "cell_type": "code",
   "execution_count": 39,
   "id": "8493bac6",
   "metadata": {},
   "outputs": [
    {
     "data": {
      "text/html": [
       "<div>\n",
       "<style scoped>\n",
       "    .dataframe tbody tr th:only-of-type {\n",
       "        vertical-align: middle;\n",
       "    }\n",
       "\n",
       "    .dataframe tbody tr th {\n",
       "        vertical-align: top;\n",
       "    }\n",
       "\n",
       "    .dataframe thead th {\n",
       "        text-align: right;\n",
       "    }\n",
       "</style>\n",
       "<table border=\"1\" class=\"dataframe\">\n",
       "  <thead>\n",
       "    <tr style=\"text-align: right;\">\n",
       "      <th></th>\n",
       "      <th>Brand</th>\n",
       "      <th>Type</th>\n",
       "      <th>Screen Size</th>\n",
       "      <th>Screen Specs</th>\n",
       "      <th>CPU</th>\n",
       "      <th>RAM</th>\n",
       "      <th>Hard Disk</th>\n",
       "      <th>Operating System</th>\n",
       "      <th>Price ($)</th>\n",
       "      <th>weight</th>\n",
       "      <th>gpu brand</th>\n",
       "      <th>x_res</th>\n",
       "      <th>y_res</th>\n",
       "      <th>Touchscreen</th>\n",
       "      <th>IPS</th>\n",
       "    </tr>\n",
       "  </thead>\n",
       "  <tbody>\n",
       "    <tr>\n",
       "      <th>0</th>\n",
       "      <td>Apple</td>\n",
       "      <td>Ultrabook</td>\n",
       "      <td>13.3</td>\n",
       "      <td>IPS Panel Retina Display 2560x1600</td>\n",
       "      <td>Intel Core i5 2.3GHz</td>\n",
       "      <td>8GB</td>\n",
       "      <td>128GB SSD</td>\n",
       "      <td>macOS</td>\n",
       "      <td>3568.93416</td>\n",
       "      <td>1.37</td>\n",
       "      <td>1</td>\n",
       "      <td>2560</td>\n",
       "      <td>1600</td>\n",
       "      <td>0</td>\n",
       "      <td>1</td>\n",
       "    </tr>\n",
       "    <tr>\n",
       "      <th>1</th>\n",
       "      <td>Apple</td>\n",
       "      <td>Ultrabook</td>\n",
       "      <td>13.3</td>\n",
       "      <td>1440x900</td>\n",
       "      <td>Intel Core i5 1.8GHz</td>\n",
       "      <td>8GB</td>\n",
       "      <td>128GB Flash Storage</td>\n",
       "      <td>macOS</td>\n",
       "      <td>2394.77616</td>\n",
       "      <td>1.34</td>\n",
       "      <td>1</td>\n",
       "      <td>1440</td>\n",
       "      <td>900</td>\n",
       "      <td>0</td>\n",
       "      <td>0</td>\n",
       "    </tr>\n",
       "  </tbody>\n",
       "</table>\n",
       "</div>"
      ],
      "text/plain": [
       "   Brand       Type  Screen Size                        Screen Specs  \\\n",
       "0  Apple  Ultrabook         13.3  IPS Panel Retina Display 2560x1600   \n",
       "1  Apple  Ultrabook         13.3                            1440x900   \n",
       "\n",
       "                    CPU  RAM            Hard Disk Operating System  \\\n",
       "0  Intel Core i5 2.3GHz  8GB            128GB SSD            macOS   \n",
       "1  Intel Core i5 1.8GHz  8GB  128GB Flash Storage            macOS   \n",
       "\n",
       "    Price ($)  weight  gpu brand  x_res  y_res  Touchscreen  IPS  \n",
       "0  3568.93416    1.37          1   2560   1600            0    1  \n",
       "1  2394.77616    1.34          1   1440    900            0    0  "
      ]
     },
     "execution_count": 39,
     "metadata": {},
     "output_type": "execute_result"
    }
   ],
   "source": [
    "df2.head(2)"
   ]
  },
  {
   "cell_type": "code",
   "execution_count": 40,
   "id": "e4651d97",
   "metadata": {},
   "outputs": [],
   "source": [
    "# I dropped the screen specs because I no longer need it "
   ]
  },
  {
   "cell_type": "code",
   "execution_count": 41,
   "id": "47d39bb8",
   "metadata": {
    "scrolled": true
   },
   "outputs": [
    {
     "data": {
      "text/html": [
       "<div>\n",
       "<style scoped>\n",
       "    .dataframe tbody tr th:only-of-type {\n",
       "        vertical-align: middle;\n",
       "    }\n",
       "\n",
       "    .dataframe tbody tr th {\n",
       "        vertical-align: top;\n",
       "    }\n",
       "\n",
       "    .dataframe thead th {\n",
       "        text-align: right;\n",
       "    }\n",
       "</style>\n",
       "<table border=\"1\" class=\"dataframe\">\n",
       "  <thead>\n",
       "    <tr style=\"text-align: right;\">\n",
       "      <th></th>\n",
       "      <th>Brand</th>\n",
       "      <th>Type</th>\n",
       "      <th>Screen Size</th>\n",
       "      <th>CPU</th>\n",
       "      <th>RAM</th>\n",
       "      <th>Hard Disk</th>\n",
       "      <th>Operating System</th>\n",
       "      <th>Price ($)</th>\n",
       "      <th>weight</th>\n",
       "      <th>gpu brand</th>\n",
       "      <th>x_res</th>\n",
       "      <th>y_res</th>\n",
       "      <th>Touchscreen</th>\n",
       "      <th>IPS</th>\n",
       "    </tr>\n",
       "  </thead>\n",
       "  <tbody>\n",
       "    <tr>\n",
       "      <th>0</th>\n",
       "      <td>Apple</td>\n",
       "      <td>Ultrabook</td>\n",
       "      <td>13.3</td>\n",
       "      <td>Intel Core i5 2.3GHz</td>\n",
       "      <td>8GB</td>\n",
       "      <td>128GB SSD</td>\n",
       "      <td>macOS</td>\n",
       "      <td>3568.93416</td>\n",
       "      <td>1.37</td>\n",
       "      <td>1</td>\n",
       "      <td>2560</td>\n",
       "      <td>1600</td>\n",
       "      <td>0</td>\n",
       "      <td>1</td>\n",
       "    </tr>\n",
       "    <tr>\n",
       "      <th>1</th>\n",
       "      <td>Apple</td>\n",
       "      <td>Ultrabook</td>\n",
       "      <td>13.3</td>\n",
       "      <td>Intel Core i5 1.8GHz</td>\n",
       "      <td>8GB</td>\n",
       "      <td>128GB Flash Storage</td>\n",
       "      <td>macOS</td>\n",
       "      <td>2394.77616</td>\n",
       "      <td>1.34</td>\n",
       "      <td>1</td>\n",
       "      <td>1440</td>\n",
       "      <td>900</td>\n",
       "      <td>0</td>\n",
       "      <td>0</td>\n",
       "    </tr>\n",
       "    <tr>\n",
       "      <th>2</th>\n",
       "      <td>HP</td>\n",
       "      <td>Notebook</td>\n",
       "      <td>15.6</td>\n",
       "      <td>Intel Core i5 7200U 2.5GHz</td>\n",
       "      <td>8GB</td>\n",
       "      <td>256GB SSD</td>\n",
       "      <td>No OS</td>\n",
       "      <td>1531.80000</td>\n",
       "      <td>1.86</td>\n",
       "      <td>1</td>\n",
       "      <td>1920</td>\n",
       "      <td>1080</td>\n",
       "      <td>0</td>\n",
       "      <td>0</td>\n",
       "    </tr>\n",
       "  </tbody>\n",
       "</table>\n",
       "</div>"
      ],
      "text/plain": [
       "   Brand       Type  Screen Size                         CPU  RAM  \\\n",
       "0  Apple  Ultrabook         13.3        Intel Core i5 2.3GHz  8GB   \n",
       "1  Apple  Ultrabook         13.3        Intel Core i5 1.8GHz  8GB   \n",
       "2     HP   Notebook         15.6  Intel Core i5 7200U 2.5GHz  8GB   \n",
       "\n",
       "             Hard Disk Operating System   Price ($)  weight  gpu brand  x_res  \\\n",
       "0            128GB SSD            macOS  3568.93416    1.37          1   2560   \n",
       "1  128GB Flash Storage            macOS  2394.77616    1.34          1   1440   \n",
       "2            256GB SSD            No OS  1531.80000    1.86          1   1920   \n",
       "\n",
       "   y_res  Touchscreen  IPS  \n",
       "0   1600            0    1  \n",
       "1    900            0    0  \n",
       "2   1080            0    0  "
      ]
     },
     "execution_count": 41,
     "metadata": {},
     "output_type": "execute_result"
    }
   ],
   "source": [
    "df2 = df2.drop('Screen Specs', axis = 1)\n",
    "df2.head(3)"
   ]
  },
  {
   "cell_type": "markdown",
   "id": "4fd386a2",
   "metadata": {},
   "source": [
    "### RAM"
   ]
  },
  {
   "cell_type": "code",
   "execution_count": 44,
   "id": "cf33ac05",
   "metadata": {},
   "outputs": [],
   "source": [
    "# I splitted the RAM column into 2  and then dropped the unit column so that I only retain the number"
   ]
  },
  {
   "cell_type": "code",
   "execution_count": 45,
   "id": "2d1186df",
   "metadata": {},
   "outputs": [],
   "source": [
    "df2[['RAM(GB)', 'unit']] = df['RAM'].str.split('GB', expand=True)"
   ]
  },
  {
   "cell_type": "code",
   "execution_count": 46,
   "id": "1ee35cf0",
   "metadata": {},
   "outputs": [],
   "source": [
    "df2 = df2.drop('unit',axis = 1)"
   ]
  },
  {
   "cell_type": "code",
   "execution_count": 47,
   "id": "f8f94858",
   "metadata": {},
   "outputs": [],
   "source": [
    "# I also dropped the RAM column because I no longer need it "
   ]
  },
  {
   "cell_type": "code",
   "execution_count": 48,
   "id": "f3ae5a7d",
   "metadata": {},
   "outputs": [],
   "source": [
    "df2 = df2.drop('RAM', axis = 1)"
   ]
  },
  {
   "cell_type": "code",
   "execution_count": 49,
   "id": "fc68f522",
   "metadata": {},
   "outputs": [],
   "source": [
    "# I changed the datatype to integer as it was still a string"
   ]
  },
  {
   "cell_type": "code",
   "execution_count": 50,
   "id": "e4389a61",
   "metadata": {},
   "outputs": [],
   "source": [
    "df2['RAM(GB)'] = df2['RAM(GB)'].astype('int32')"
   ]
  },
  {
   "cell_type": "code",
   "execution_count": 51,
   "id": "2bf63bb7",
   "metadata": {},
   "outputs": [
    {
     "data": {
      "text/html": [
       "<div>\n",
       "<style scoped>\n",
       "    .dataframe tbody tr th:only-of-type {\n",
       "        vertical-align: middle;\n",
       "    }\n",
       "\n",
       "    .dataframe tbody tr th {\n",
       "        vertical-align: top;\n",
       "    }\n",
       "\n",
       "    .dataframe thead th {\n",
       "        text-align: right;\n",
       "    }\n",
       "</style>\n",
       "<table border=\"1\" class=\"dataframe\">\n",
       "  <thead>\n",
       "    <tr style=\"text-align: right;\">\n",
       "      <th></th>\n",
       "      <th>Brand</th>\n",
       "      <th>Type</th>\n",
       "      <th>Screen Size</th>\n",
       "      <th>CPU</th>\n",
       "      <th>Hard Disk</th>\n",
       "      <th>Operating System</th>\n",
       "      <th>Price ($)</th>\n",
       "      <th>weight</th>\n",
       "      <th>gpu brand</th>\n",
       "      <th>x_res</th>\n",
       "      <th>y_res</th>\n",
       "      <th>Touchscreen</th>\n",
       "      <th>IPS</th>\n",
       "      <th>RAM(GB)</th>\n",
       "    </tr>\n",
       "  </thead>\n",
       "  <tbody>\n",
       "    <tr>\n",
       "      <th>0</th>\n",
       "      <td>Apple</td>\n",
       "      <td>Ultrabook</td>\n",
       "      <td>13.3</td>\n",
       "      <td>Intel Core i5 2.3GHz</td>\n",
       "      <td>128GB SSD</td>\n",
       "      <td>macOS</td>\n",
       "      <td>3568.93416</td>\n",
       "      <td>1.37</td>\n",
       "      <td>1</td>\n",
       "      <td>2560</td>\n",
       "      <td>1600</td>\n",
       "      <td>0</td>\n",
       "      <td>1</td>\n",
       "      <td>8</td>\n",
       "    </tr>\n",
       "    <tr>\n",
       "      <th>1</th>\n",
       "      <td>Apple</td>\n",
       "      <td>Ultrabook</td>\n",
       "      <td>13.3</td>\n",
       "      <td>Intel Core i5 1.8GHz</td>\n",
       "      <td>128GB Flash Storage</td>\n",
       "      <td>macOS</td>\n",
       "      <td>2394.77616</td>\n",
       "      <td>1.34</td>\n",
       "      <td>1</td>\n",
       "      <td>1440</td>\n",
       "      <td>900</td>\n",
       "      <td>0</td>\n",
       "      <td>0</td>\n",
       "      <td>8</td>\n",
       "    </tr>\n",
       "  </tbody>\n",
       "</table>\n",
       "</div>"
      ],
      "text/plain": [
       "   Brand       Type  Screen Size                   CPU            Hard Disk  \\\n",
       "0  Apple  Ultrabook         13.3  Intel Core i5 2.3GHz            128GB SSD   \n",
       "1  Apple  Ultrabook         13.3  Intel Core i5 1.8GHz  128GB Flash Storage   \n",
       "\n",
       "  Operating System   Price ($)  weight  gpu brand  x_res  y_res  Touchscreen  \\\n",
       "0            macOS  3568.93416    1.37          1   2560   1600            0   \n",
       "1            macOS  2394.77616    1.34          1   1440    900            0   \n",
       "\n",
       "   IPS  RAM(GB)  \n",
       "0    1        8  \n",
       "1    0        8  "
      ]
     },
     "execution_count": 51,
     "metadata": {},
     "output_type": "execute_result"
    }
   ],
   "source": [
    "df2.head(2)"
   ]
  },
  {
   "cell_type": "markdown",
   "id": "693399ea",
   "metadata": {},
   "source": [
    "### TYPE"
   ]
  },
  {
   "cell_type": "code",
   "execution_count": 52,
   "id": "694391a0",
   "metadata": {},
   "outputs": [],
   "source": [
    "# I assigned a number to each type of computer so that the data will now be numbers and not words"
   ]
  },
  {
   "cell_type": "code",
   "execution_count": 53,
   "id": "80022d40",
   "metadata": {},
   "outputs": [
    {
     "data": {
      "text/plain": [
       "array(['Ultrabook', 'Notebook', 'Netbook', 'Gaming', '2 in 1 Convertible',\n",
       "       'Workstation'], dtype=object)"
      ]
     },
     "execution_count": 53,
     "metadata": {},
     "output_type": "execute_result"
    }
   ],
   "source": [
    "df2['Type'].unique()"
   ]
  },
  {
   "cell_type": "code",
   "execution_count": 54,
   "id": "54bd71bc",
   "metadata": {},
   "outputs": [],
   "source": [
    "df2.loc[df2['Type'] == 'Ultrabook', 'Type'] = 1\n",
    "df2.loc[df2['Type'] == 'Notebook', 'Type']= 2\n",
    "df2.loc[df2['Type'] == 'Netbook', 'Type'] = 3\n",
    "df2.loc[df2['Type'] == 'Gaming', 'Type'] = 4\n",
    "df2.loc[df2['Type'] == '2 in 1 Convertible', 'Type'] = 5\n",
    "df2.loc[df2['Type'] == 'Workstation', 'Type'] = 6"
   ]
  },
  {
   "cell_type": "code",
   "execution_count": 55,
   "id": "61d2cb6f",
   "metadata": {
    "scrolled": false
   },
   "outputs": [
    {
     "data": {
      "text/html": [
       "<div>\n",
       "<style scoped>\n",
       "    .dataframe tbody tr th:only-of-type {\n",
       "        vertical-align: middle;\n",
       "    }\n",
       "\n",
       "    .dataframe tbody tr th {\n",
       "        vertical-align: top;\n",
       "    }\n",
       "\n",
       "    .dataframe thead th {\n",
       "        text-align: right;\n",
       "    }\n",
       "</style>\n",
       "<table border=\"1\" class=\"dataframe\">\n",
       "  <thead>\n",
       "    <tr style=\"text-align: right;\">\n",
       "      <th></th>\n",
       "      <th>Brand</th>\n",
       "      <th>Type</th>\n",
       "      <th>Screen Size</th>\n",
       "      <th>CPU</th>\n",
       "      <th>Hard Disk</th>\n",
       "      <th>Operating System</th>\n",
       "      <th>Price ($)</th>\n",
       "      <th>weight</th>\n",
       "      <th>gpu brand</th>\n",
       "      <th>x_res</th>\n",
       "      <th>y_res</th>\n",
       "      <th>Touchscreen</th>\n",
       "      <th>IPS</th>\n",
       "      <th>RAM(GB)</th>\n",
       "    </tr>\n",
       "  </thead>\n",
       "  <tbody>\n",
       "    <tr>\n",
       "      <th>41</th>\n",
       "      <td>Dell</td>\n",
       "      <td>4</td>\n",
       "      <td>15.6</td>\n",
       "      <td>Intel Core i7 7700HQ 2.8GHz</td>\n",
       "      <td>256GB SSD +  1TB HDD</td>\n",
       "      <td>Windows 10</td>\n",
       "      <td>3993.33600</td>\n",
       "      <td>2.65</td>\n",
       "      <td>3</td>\n",
       "      <td>1920</td>\n",
       "      <td>1080</td>\n",
       "      <td>0</td>\n",
       "      <td>1</td>\n",
       "      <td>16</td>\n",
       "    </tr>\n",
       "    <tr>\n",
       "      <th>42</th>\n",
       "      <td>Asus</td>\n",
       "      <td>2</td>\n",
       "      <td>15.6</td>\n",
       "      <td>Intel Core i5 7200U 2.5GHz</td>\n",
       "      <td>1TB HDD</td>\n",
       "      <td>Linux</td>\n",
       "      <td>1393.24536</td>\n",
       "      <td>2.30</td>\n",
       "      <td>3</td>\n",
       "      <td>1366</td>\n",
       "      <td>768</td>\n",
       "      <td>0</td>\n",
       "      <td>0</td>\n",
       "      <td>8</td>\n",
       "    </tr>\n",
       "    <tr>\n",
       "      <th>43</th>\n",
       "      <td>Acer</td>\n",
       "      <td>2</td>\n",
       "      <td>15.6</td>\n",
       "      <td>Intel Core i5 8250U 1.6GHz</td>\n",
       "      <td>256GB SSD</td>\n",
       "      <td>Windows 10</td>\n",
       "      <td>1816.84800</td>\n",
       "      <td>2.20</td>\n",
       "      <td>1</td>\n",
       "      <td>1920</td>\n",
       "      <td>1080</td>\n",
       "      <td>0</td>\n",
       "      <td>1</td>\n",
       "      <td>4</td>\n",
       "    </tr>\n",
       "    <tr>\n",
       "      <th>44</th>\n",
       "      <td>Dell</td>\n",
       "      <td>5</td>\n",
       "      <td>17.3</td>\n",
       "      <td>Intel Core i5 8250U 1.6GHz</td>\n",
       "      <td>1TB HDD</td>\n",
       "      <td>Windows 10</td>\n",
       "      <td>2661.33600</td>\n",
       "      <td>2.77</td>\n",
       "      <td>3</td>\n",
       "      <td>1920</td>\n",
       "      <td>1080</td>\n",
       "      <td>1</td>\n",
       "      <td>0</td>\n",
       "      <td>12</td>\n",
       "    </tr>\n",
       "  </tbody>\n",
       "</table>\n",
       "</div>"
      ],
      "text/plain": [
       "   Brand Type  Screen Size                          CPU             Hard Disk  \\\n",
       "41  Dell    4         15.6  Intel Core i7 7700HQ 2.8GHz  256GB SSD +  1TB HDD   \n",
       "42  Asus    2         15.6   Intel Core i5 7200U 2.5GHz               1TB HDD   \n",
       "43  Acer    2         15.6   Intel Core i5 8250U 1.6GHz             256GB SSD   \n",
       "44  Dell    5         17.3   Intel Core i5 8250U 1.6GHz               1TB HDD   \n",
       "\n",
       "   Operating System   Price ($)  weight  gpu brand  x_res  y_res  Touchscreen  \\\n",
       "41       Windows 10  3993.33600    2.65          3   1920   1080            0   \n",
       "42            Linux  1393.24536    2.30          3   1366    768            0   \n",
       "43       Windows 10  1816.84800    2.20          1   1920   1080            0   \n",
       "44       Windows 10  2661.33600    2.77          3   1920   1080            1   \n",
       "\n",
       "    IPS  RAM(GB)  \n",
       "41    1       16  \n",
       "42    0        8  \n",
       "43    1        4  \n",
       "44    0       12  "
      ]
     },
     "execution_count": 55,
     "metadata": {},
     "output_type": "execute_result"
    }
   ],
   "source": [
    "df2[41:45]"
   ]
  },
  {
   "cell_type": "code",
   "execution_count": 56,
   "id": "426b6031",
   "metadata": {},
   "outputs": [],
   "source": [
    "df2['Type'] = df2['Type'].apply(pd.to_numeric)"
   ]
  },
  {
   "cell_type": "markdown",
   "id": "af05230c",
   "metadata": {},
   "source": [
    "### BRAND"
   ]
  },
  {
   "cell_type": "code",
   "execution_count": 57,
   "id": "265c52c6",
   "metadata": {},
   "outputs": [
    {
     "data": {
      "text/plain": [
       "array(['Apple', 'HP', 'Acer', 'Asus', 'Dell', 'Lenovo', 'Chuwi', 'MSI',\n",
       "       'Microsoft', 'Toshiba', 'Huawei', 'Xiaomi', 'Vero', 'Razer',\n",
       "       'Mediacom', 'Samsung', 'Google', 'Fujitsu', 'LG'], dtype=object)"
      ]
     },
     "execution_count": 57,
     "metadata": {},
     "output_type": "execute_result"
    }
   ],
   "source": [
    "df2['Brand'].unique()"
   ]
  },
  {
   "cell_type": "code",
   "execution_count": 58,
   "id": "6c44c2df",
   "metadata": {},
   "outputs": [],
   "source": [
    "# This was an exhausting step where I had to assign each brand to a number"
   ]
  },
  {
   "cell_type": "code",
   "execution_count": 59,
   "id": "e5140cb4",
   "metadata": {},
   "outputs": [],
   "source": [
    "df2.loc[df2['Brand'] == 'Apple', 'Brand'] = 1   \n",
    "df2.loc[df2['Brand'] == 'HP', 'Brand'] = 2\n",
    "df2.loc[df2['Brand'] == 'Acer', 'Brand'] = 3\n",
    "df2.loc[df2['Brand'] == 'Asus', 'Brand'] = 4\n",
    "df2.loc[df2['Brand'] == 'Dell', 'Brand'] = 5\n",
    "df2.loc[df2['Brand'] == 'Lenovo', 'Brand'] = 6\n",
    "df2.loc[df2['Brand'] == 'Chuwi', 'Brand'] = 7\n",
    "df2.loc[df2['Brand'] == 'MSI', 'Brand'] = 8\n",
    "df2.loc[df2['Brand'] == 'Microsoft', 'Brand'] = 9\n",
    "df2.loc[df2['Brand'] == 'Toshiba', 'Brand'] = 10\n",
    "df2.loc[df2['Brand'] == 'Huawei', 'Brand'] = 11\n",
    "df2.loc[df2['Brand'] == 'Xiaomi', 'Brand'] = 12\n",
    "df2.loc[df2['Brand'] == 'Vero', 'Brand'] = 13\n",
    "df2.loc[df2['Brand'] == 'Razer', 'Brand'] = 14\n",
    "df2.loc[df2['Brand'] == 'Mediacom', 'Brand'] = 15\n",
    "df2.loc[df2['Brand'] == 'Samsung', 'Brand'] = 16\n",
    "df2.loc[df2['Brand'] == 'Google', 'Brand'] = 17\n",
    "df2.loc[df2['Brand'] == 'Fujitsu', 'Brand'] = 18\n",
    "df2.loc[df2['Brand'] == 'LG', 'Brand'] = 19"
   ]
  },
  {
   "cell_type": "code",
   "execution_count": 60,
   "id": "cf7855b9",
   "metadata": {},
   "outputs": [
    {
     "data": {
      "text/html": [
       "<div>\n",
       "<style scoped>\n",
       "    .dataframe tbody tr th:only-of-type {\n",
       "        vertical-align: middle;\n",
       "    }\n",
       "\n",
       "    .dataframe tbody tr th {\n",
       "        vertical-align: top;\n",
       "    }\n",
       "\n",
       "    .dataframe thead th {\n",
       "        text-align: right;\n",
       "    }\n",
       "</style>\n",
       "<table border=\"1\" class=\"dataframe\">\n",
       "  <thead>\n",
       "    <tr style=\"text-align: right;\">\n",
       "      <th></th>\n",
       "      <th>Brand</th>\n",
       "      <th>Type</th>\n",
       "      <th>Screen Size</th>\n",
       "      <th>CPU</th>\n",
       "      <th>Hard Disk</th>\n",
       "      <th>Operating System</th>\n",
       "      <th>Price ($)</th>\n",
       "      <th>weight</th>\n",
       "      <th>gpu brand</th>\n",
       "      <th>x_res</th>\n",
       "      <th>y_res</th>\n",
       "      <th>Touchscreen</th>\n",
       "      <th>IPS</th>\n",
       "      <th>RAM(GB)</th>\n",
       "    </tr>\n",
       "  </thead>\n",
       "  <tbody>\n",
       "    <tr>\n",
       "      <th>20</th>\n",
       "      <td>4</td>\n",
       "      <td>3</td>\n",
       "      <td>11.6</td>\n",
       "      <td>Intel Atom x5-Z8350 1.44GHz</td>\n",
       "      <td>32GB Flash Storage</td>\n",
       "      <td>Windows 10</td>\n",
       "      <td>511.22160</td>\n",
       "      <td>0.98</td>\n",
       "      <td>1</td>\n",
       "      <td>1366</td>\n",
       "      <td>768</td>\n",
       "      <td>0</td>\n",
       "      <td>0</td>\n",
       "      <td>2</td>\n",
       "    </tr>\n",
       "    <tr>\n",
       "      <th>21</th>\n",
       "      <td>6</td>\n",
       "      <td>4</td>\n",
       "      <td>15.6</td>\n",
       "      <td>Intel Core i5 7300HQ 2.5GHz</td>\n",
       "      <td>128GB SSD +  1TB HDD</td>\n",
       "      <td>Windows 10</td>\n",
       "      <td>2661.33600</td>\n",
       "      <td>2.50</td>\n",
       "      <td>3</td>\n",
       "      <td>1920</td>\n",
       "      <td>1080</td>\n",
       "      <td>0</td>\n",
       "      <td>1</td>\n",
       "      <td>8</td>\n",
       "    </tr>\n",
       "    <tr>\n",
       "      <th>22</th>\n",
       "      <td>2</td>\n",
       "      <td>2</td>\n",
       "      <td>15.6</td>\n",
       "      <td>AMD E-Series E2-9000e 1.5GHz</td>\n",
       "      <td>500GB HDD</td>\n",
       "      <td>No OS</td>\n",
       "      <td>687.31200</td>\n",
       "      <td>1.86</td>\n",
       "      <td>2</td>\n",
       "      <td>1366</td>\n",
       "      <td>768</td>\n",
       "      <td>0</td>\n",
       "      <td>0</td>\n",
       "      <td>4</td>\n",
       "    </tr>\n",
       "    <tr>\n",
       "      <th>23</th>\n",
       "      <td>5</td>\n",
       "      <td>5</td>\n",
       "      <td>13.3</td>\n",
       "      <td>Intel Core i5 8250U 1.6GHz</td>\n",
       "      <td>256GB SSD</td>\n",
       "      <td>Windows 10</td>\n",
       "      <td>2181.81600</td>\n",
       "      <td>1.62</td>\n",
       "      <td>1</td>\n",
       "      <td>1920</td>\n",
       "      <td>1080</td>\n",
       "      <td>1</td>\n",
       "      <td>0</td>\n",
       "      <td>8</td>\n",
       "    </tr>\n",
       "    <tr>\n",
       "      <th>24</th>\n",
       "      <td>2</td>\n",
       "      <td>1</td>\n",
       "      <td>15.6</td>\n",
       "      <td>Intel Core i7 8550U 1.8GHz</td>\n",
       "      <td>256GB SSD</td>\n",
       "      <td>Windows 10</td>\n",
       "      <td>1755.57600</td>\n",
       "      <td>1.91</td>\n",
       "      <td>1</td>\n",
       "      <td>1920</td>\n",
       "      <td>1080</td>\n",
       "      <td>0</td>\n",
       "      <td>0</td>\n",
       "      <td>8</td>\n",
       "    </tr>\n",
       "    <tr>\n",
       "      <th>25</th>\n",
       "      <td>5</td>\n",
       "      <td>2</td>\n",
       "      <td>15.6</td>\n",
       "      <td>Intel Core i3 6006U 2GHz</td>\n",
       "      <td>1TB HDD</td>\n",
       "      <td>Windows 10</td>\n",
       "      <td>1115.25696</td>\n",
       "      <td>2.30</td>\n",
       "      <td>1</td>\n",
       "      <td>1366</td>\n",
       "      <td>768</td>\n",
       "      <td>0</td>\n",
       "      <td>0</td>\n",
       "      <td>4</td>\n",
       "    </tr>\n",
       "    <tr>\n",
       "      <th>26</th>\n",
       "      <td>1</td>\n",
       "      <td>1</td>\n",
       "      <td>13.3</td>\n",
       "      <td>Intel Core i5 1.6GHz</td>\n",
       "      <td>128GB Flash Storage</td>\n",
       "      <td>Mac OS X</td>\n",
       "      <td>2927.73600</td>\n",
       "      <td>1.35</td>\n",
       "      <td>1</td>\n",
       "      <td>1440</td>\n",
       "      <td>900</td>\n",
       "      <td>0</td>\n",
       "      <td>0</td>\n",
       "      <td>8</td>\n",
       "    </tr>\n",
       "    <tr>\n",
       "      <th>27</th>\n",
       "      <td>5</td>\n",
       "      <td>2</td>\n",
       "      <td>15.6</td>\n",
       "      <td>Intel Core i5 8250U 1.6GHz</td>\n",
       "      <td>256GB SSD</td>\n",
       "      <td>Windows 10</td>\n",
       "      <td>2131.20000</td>\n",
       "      <td>2.20</td>\n",
       "      <td>2</td>\n",
       "      <td>1920</td>\n",
       "      <td>1080</td>\n",
       "      <td>0</td>\n",
       "      <td>0</td>\n",
       "      <td>8</td>\n",
       "    </tr>\n",
       "  </tbody>\n",
       "</table>\n",
       "</div>"
      ],
      "text/plain": [
       "   Brand  Type  Screen Size                           CPU  \\\n",
       "20     4     3         11.6   Intel Atom x5-Z8350 1.44GHz   \n",
       "21     6     4         15.6   Intel Core i5 7300HQ 2.5GHz   \n",
       "22     2     2         15.6  AMD E-Series E2-9000e 1.5GHz   \n",
       "23     5     5         13.3    Intel Core i5 8250U 1.6GHz   \n",
       "24     2     1         15.6    Intel Core i7 8550U 1.8GHz   \n",
       "25     5     2         15.6      Intel Core i3 6006U 2GHz   \n",
       "26     1     1         13.3          Intel Core i5 1.6GHz   \n",
       "27     5     2         15.6    Intel Core i5 8250U 1.6GHz   \n",
       "\n",
       "               Hard Disk Operating System   Price ($)  weight  gpu brand  \\\n",
       "20    32GB Flash Storage       Windows 10   511.22160    0.98          1   \n",
       "21  128GB SSD +  1TB HDD       Windows 10  2661.33600    2.50          3   \n",
       "22             500GB HDD            No OS   687.31200    1.86          2   \n",
       "23             256GB SSD       Windows 10  2181.81600    1.62          1   \n",
       "24             256GB SSD       Windows 10  1755.57600    1.91          1   \n",
       "25               1TB HDD       Windows 10  1115.25696    2.30          1   \n",
       "26   128GB Flash Storage         Mac OS X  2927.73600    1.35          1   \n",
       "27             256GB SSD       Windows 10  2131.20000    2.20          2   \n",
       "\n",
       "    x_res  y_res  Touchscreen  IPS  RAM(GB)  \n",
       "20   1366    768            0    0        2  \n",
       "21   1920   1080            0    1        8  \n",
       "22   1366    768            0    0        4  \n",
       "23   1920   1080            1    0        8  \n",
       "24   1920   1080            0    0        8  \n",
       "25   1366    768            0    0        4  \n",
       "26   1440    900            0    0        8  \n",
       "27   1920   1080            0    0        8  "
      ]
     },
     "execution_count": 60,
     "metadata": {},
     "output_type": "execute_result"
    }
   ],
   "source": [
    "df2[20:28]"
   ]
  },
  {
   "cell_type": "code",
   "execution_count": 61,
   "id": "dd1d5b99",
   "metadata": {},
   "outputs": [],
   "source": [
    "df2['Brand'] = df2['Brand'].apply(pd.to_numeric)"
   ]
  },
  {
   "cell_type": "markdown",
   "id": "f058c9ad",
   "metadata": {},
   "source": [
    "### OPERATING SYSTEM"
   ]
  },
  {
   "cell_type": "code",
   "execution_count": 62,
   "id": "90b27b0f",
   "metadata": {},
   "outputs": [
    {
     "data": {
      "text/plain": [
       "array(['macOS', 'No OS', 'Windows 10', 'Mac OS X', 'Linux', 'Android',\n",
       "       'Windows 10 S', 'Chrome OS', 'Windows 7'], dtype=object)"
      ]
     },
     "execution_count": 62,
     "metadata": {},
     "output_type": "execute_result"
    }
   ],
   "source": [
    "df2['Operating System'].unique()"
   ]
  },
  {
   "cell_type": "code",
   "execution_count": 63,
   "id": "4c02f35e",
   "metadata": {},
   "outputs": [],
   "source": [
    "# I assigned each operating system  a number"
   ]
  },
  {
   "cell_type": "code",
   "execution_count": 64,
   "id": "7bd38569",
   "metadata": {},
   "outputs": [],
   "source": [
    "df2.loc[df2['Operating System'] == 'macOS', 'Operating System'] = 1\n",
    "df2.loc[df2['Operating System'] == 'No OS', 'Operating System'] = 2\n",
    "df2.loc[df2['Operating System'] == 'Windows 10', 'Operating System'] = 3\n",
    "df2.loc[df2['Operating System'] == 'Mac OS X', 'Operating System'] = 4\n",
    "df2.loc[df2['Operating System'] == 'Linux', 'Operating System'] = 5\n",
    "df2.loc[df2['Operating System'] == 'Android', 'Operating System'] = 6\n",
    "df2.loc[df2['Operating System'] == 'Windows 10 S', 'Operating System'] = 7\n",
    "df2.loc[df2['Operating System'] == 'Chrome OS', 'Operating System'] = 8\n",
    "df2.loc[df2['Operating System'] == 'Windows 7', 'Operating System'] = 9"
   ]
  },
  {
   "cell_type": "code",
   "execution_count": 65,
   "id": "6af9ac20",
   "metadata": {},
   "outputs": [],
   "source": [
    "# changing datatype to integer"
   ]
  },
  {
   "cell_type": "code",
   "execution_count": 66,
   "id": "0bc12c34",
   "metadata": {},
   "outputs": [],
   "source": [
    "df2['Operating System'] = df2['Operating System'].apply(pd.to_numeric)"
   ]
  },
  {
   "cell_type": "code",
   "execution_count": 67,
   "id": "ca847d57",
   "metadata": {
    "scrolled": false
   },
   "outputs": [
    {
     "data": {
      "text/html": [
       "<div>\n",
       "<style scoped>\n",
       "    .dataframe tbody tr th:only-of-type {\n",
       "        vertical-align: middle;\n",
       "    }\n",
       "\n",
       "    .dataframe tbody tr th {\n",
       "        vertical-align: top;\n",
       "    }\n",
       "\n",
       "    .dataframe thead th {\n",
       "        text-align: right;\n",
       "    }\n",
       "</style>\n",
       "<table border=\"1\" class=\"dataframe\">\n",
       "  <thead>\n",
       "    <tr style=\"text-align: right;\">\n",
       "      <th></th>\n",
       "      <th>Brand</th>\n",
       "      <th>Type</th>\n",
       "      <th>Screen Size</th>\n",
       "      <th>CPU</th>\n",
       "      <th>Hard Disk</th>\n",
       "      <th>Operating System</th>\n",
       "      <th>Price ($)</th>\n",
       "      <th>weight</th>\n",
       "      <th>gpu brand</th>\n",
       "      <th>x_res</th>\n",
       "      <th>y_res</th>\n",
       "      <th>Touchscreen</th>\n",
       "      <th>IPS</th>\n",
       "      <th>RAM(GB)</th>\n",
       "    </tr>\n",
       "  </thead>\n",
       "  <tbody>\n",
       "    <tr>\n",
       "      <th>0</th>\n",
       "      <td>1</td>\n",
       "      <td>1</td>\n",
       "      <td>13.3</td>\n",
       "      <td>Intel Core i5 2.3GHz</td>\n",
       "      <td>128GB SSD</td>\n",
       "      <td>1</td>\n",
       "      <td>3568.93416</td>\n",
       "      <td>1.37</td>\n",
       "      <td>1</td>\n",
       "      <td>2560</td>\n",
       "      <td>1600</td>\n",
       "      <td>0</td>\n",
       "      <td>1</td>\n",
       "      <td>8</td>\n",
       "    </tr>\n",
       "    <tr>\n",
       "      <th>1</th>\n",
       "      <td>1</td>\n",
       "      <td>1</td>\n",
       "      <td>13.3</td>\n",
       "      <td>Intel Core i5 1.8GHz</td>\n",
       "      <td>128GB Flash Storage</td>\n",
       "      <td>1</td>\n",
       "      <td>2394.77616</td>\n",
       "      <td>1.34</td>\n",
       "      <td>1</td>\n",
       "      <td>1440</td>\n",
       "      <td>900</td>\n",
       "      <td>0</td>\n",
       "      <td>0</td>\n",
       "      <td>8</td>\n",
       "    </tr>\n",
       "    <tr>\n",
       "      <th>2</th>\n",
       "      <td>2</td>\n",
       "      <td>2</td>\n",
       "      <td>15.6</td>\n",
       "      <td>Intel Core i5 7200U 2.5GHz</td>\n",
       "      <td>256GB SSD</td>\n",
       "      <td>2</td>\n",
       "      <td>1531.80000</td>\n",
       "      <td>1.86</td>\n",
       "      <td>1</td>\n",
       "      <td>1920</td>\n",
       "      <td>1080</td>\n",
       "      <td>0</td>\n",
       "      <td>0</td>\n",
       "      <td>8</td>\n",
       "    </tr>\n",
       "  </tbody>\n",
       "</table>\n",
       "</div>"
      ],
      "text/plain": [
       "   Brand  Type  Screen Size                         CPU            Hard Disk  \\\n",
       "0      1     1         13.3        Intel Core i5 2.3GHz            128GB SSD   \n",
       "1      1     1         13.3        Intel Core i5 1.8GHz  128GB Flash Storage   \n",
       "2      2     2         15.6  Intel Core i5 7200U 2.5GHz            256GB SSD   \n",
       "\n",
       "   Operating System   Price ($)  weight  gpu brand  x_res  y_res  Touchscreen  \\\n",
       "0                 1  3568.93416    1.37          1   2560   1600            0   \n",
       "1                 1  2394.77616    1.34          1   1440    900            0   \n",
       "2                 2  1531.80000    1.86          1   1920   1080            0   \n",
       "\n",
       "   IPS  RAM(GB)  \n",
       "0    1        8  \n",
       "1    0        8  \n",
       "2    0        8  "
      ]
     },
     "execution_count": 67,
     "metadata": {},
     "output_type": "execute_result"
    }
   ],
   "source": [
    "df2.head(3) "
   ]
  },
  {
   "cell_type": "markdown",
   "id": "3ca56352",
   "metadata": {},
   "source": [
    "### CPU"
   ]
  },
  {
   "cell_type": "code",
   "execution_count": 68,
   "id": "24d877c0",
   "metadata": {},
   "outputs": [],
   "source": [
    "# I split CPU into 3 columns and dropped the other 2 as I only wanted to retain the cpu processor brand"
   ]
  },
  {
   "cell_type": "code",
   "execution_count": 69,
   "id": "6db97707",
   "metadata": {},
   "outputs": [],
   "source": [
    "df2[['cpu_brand','cpu_specs1','cpu_specs2']] = df2['CPU'].str.split('-', expand=True)"
   ]
  },
  {
   "cell_type": "code",
   "execution_count": 70,
   "id": "e326d7ae",
   "metadata": {},
   "outputs": [],
   "source": [
    "# I dropped CPU as well as I no longer needed it "
   ]
  },
  {
   "cell_type": "code",
   "execution_count": 71,
   "id": "d408696f",
   "metadata": {},
   "outputs": [],
   "source": [
    "df2 = df2.drop('CPU', axis = 1)\n",
    "df2 = df2.drop(['cpu_specs1','cpu_specs2'], axis = 1)"
   ]
  },
  {
   "cell_type": "code",
   "execution_count": 72,
   "id": "073878bc",
   "metadata": {
    "scrolled": true
   },
   "outputs": [
    {
     "data": {
      "text/html": [
       "<div>\n",
       "<style scoped>\n",
       "    .dataframe tbody tr th:only-of-type {\n",
       "        vertical-align: middle;\n",
       "    }\n",
       "\n",
       "    .dataframe tbody tr th {\n",
       "        vertical-align: top;\n",
       "    }\n",
       "\n",
       "    .dataframe thead th {\n",
       "        text-align: right;\n",
       "    }\n",
       "</style>\n",
       "<table border=\"1\" class=\"dataframe\">\n",
       "  <thead>\n",
       "    <tr style=\"text-align: right;\">\n",
       "      <th></th>\n",
       "      <th>Brand</th>\n",
       "      <th>Type</th>\n",
       "      <th>Screen Size</th>\n",
       "      <th>Hard Disk</th>\n",
       "      <th>Operating System</th>\n",
       "      <th>Price ($)</th>\n",
       "      <th>weight</th>\n",
       "      <th>gpu brand</th>\n",
       "      <th>x_res</th>\n",
       "      <th>y_res</th>\n",
       "      <th>Touchscreen</th>\n",
       "      <th>IPS</th>\n",
       "      <th>RAM(GB)</th>\n",
       "      <th>cpu_brand</th>\n",
       "    </tr>\n",
       "  </thead>\n",
       "  <tbody>\n",
       "    <tr>\n",
       "      <th>0</th>\n",
       "      <td>1</td>\n",
       "      <td>1</td>\n",
       "      <td>13.3</td>\n",
       "      <td>128GB SSD</td>\n",
       "      <td>1</td>\n",
       "      <td>3568.93416</td>\n",
       "      <td>1.37</td>\n",
       "      <td>1</td>\n",
       "      <td>2560</td>\n",
       "      <td>1600</td>\n",
       "      <td>0</td>\n",
       "      <td>1</td>\n",
       "      <td>8</td>\n",
       "      <td>Intel Core i5 2.3GHz</td>\n",
       "    </tr>\n",
       "    <tr>\n",
       "      <th>1</th>\n",
       "      <td>1</td>\n",
       "      <td>1</td>\n",
       "      <td>13.3</td>\n",
       "      <td>128GB Flash Storage</td>\n",
       "      <td>1</td>\n",
       "      <td>2394.77616</td>\n",
       "      <td>1.34</td>\n",
       "      <td>1</td>\n",
       "      <td>1440</td>\n",
       "      <td>900</td>\n",
       "      <td>0</td>\n",
       "      <td>0</td>\n",
       "      <td>8</td>\n",
       "      <td>Intel Core i5 1.8GHz</td>\n",
       "    </tr>\n",
       "    <tr>\n",
       "      <th>2</th>\n",
       "      <td>2</td>\n",
       "      <td>2</td>\n",
       "      <td>15.6</td>\n",
       "      <td>256GB SSD</td>\n",
       "      <td>2</td>\n",
       "      <td>1531.80000</td>\n",
       "      <td>1.86</td>\n",
       "      <td>1</td>\n",
       "      <td>1920</td>\n",
       "      <td>1080</td>\n",
       "      <td>0</td>\n",
       "      <td>0</td>\n",
       "      <td>8</td>\n",
       "      <td>Intel Core i5 7200U 2.5GHz</td>\n",
       "    </tr>\n",
       "  </tbody>\n",
       "</table>\n",
       "</div>"
      ],
      "text/plain": [
       "   Brand  Type  Screen Size            Hard Disk  Operating System  \\\n",
       "0      1     1         13.3            128GB SSD                 1   \n",
       "1      1     1         13.3  128GB Flash Storage                 1   \n",
       "2      2     2         15.6            256GB SSD                 2   \n",
       "\n",
       "    Price ($)  weight  gpu brand  x_res  y_res  Touchscreen  IPS  RAM(GB)  \\\n",
       "0  3568.93416    1.37          1   2560   1600            0    1        8   \n",
       "1  2394.77616    1.34          1   1440    900            0    0        8   \n",
       "2  1531.80000    1.86          1   1920   1080            0    0        8   \n",
       "\n",
       "                    cpu_brand  \n",
       "0        Intel Core i5 2.3GHz  \n",
       "1        Intel Core i5 1.8GHz  \n",
       "2  Intel Core i5 7200U 2.5GHz  "
      ]
     },
     "execution_count": 72,
     "metadata": {},
     "output_type": "execute_result"
    }
   ],
   "source": [
    "df2.head(3)"
   ]
  },
  {
   "cell_type": "code",
   "execution_count": 73,
   "id": "9be3171e",
   "metadata": {},
   "outputs": [],
   "source": [
    "# doing hot encoding with each type of cpu brand , resulting in 4 new columns"
   ]
  },
  {
   "cell_type": "code",
   "execution_count": 74,
   "id": "0a9796f6",
   "metadata": {},
   "outputs": [],
   "source": [
    "df2[\"i7\"] = df2[\"cpu_brand\"].apply(lambda x: 1 if 'Intel Core i7' in x else 0)\n",
    "df2[\"i5\"] = df2[\"cpu_brand\"].apply(lambda x: 1 if 'Intel Core i5' in x else 0)\n",
    "df2[\"i3\"] = df2[\"cpu_brand\"].apply(lambda x: 1 if 'Intel Core i3' in x else 0)\n",
    "df2[\"AMD\"] = df2[\"cpu_brand\"].apply(lambda x: 1 if 'AMD' in x else 0)"
   ]
  },
  {
   "cell_type": "code",
   "execution_count": 75,
   "id": "dfae46c4",
   "metadata": {},
   "outputs": [],
   "source": [
    "df2['i7'] = df2['i7'].apply(pd.to_numeric)\n",
    "df2['i5'] = df2['i5'].apply(pd.to_numeric)\n",
    "df2['i3'] = df2['i3'].apply(pd.to_numeric)\n",
    "df2['AMD'] = df2['AMD'].apply(pd.to_numeric)"
   ]
  },
  {
   "cell_type": "code",
   "execution_count": 76,
   "id": "56c56bf4",
   "metadata": {},
   "outputs": [],
   "source": [
    "# dropping cpu _brand because I no longer need it"
   ]
  },
  {
   "cell_type": "code",
   "execution_count": 77,
   "id": "c4679330",
   "metadata": {},
   "outputs": [],
   "source": [
    "df2 = df2.drop('cpu_brand', axis=1)"
   ]
  },
  {
   "cell_type": "code",
   "execution_count": 78,
   "id": "9219349c",
   "metadata": {
    "scrolled": true
   },
   "outputs": [
    {
     "data": {
      "text/html": [
       "<div>\n",
       "<style scoped>\n",
       "    .dataframe tbody tr th:only-of-type {\n",
       "        vertical-align: middle;\n",
       "    }\n",
       "\n",
       "    .dataframe tbody tr th {\n",
       "        vertical-align: top;\n",
       "    }\n",
       "\n",
       "    .dataframe thead th {\n",
       "        text-align: right;\n",
       "    }\n",
       "</style>\n",
       "<table border=\"1\" class=\"dataframe\">\n",
       "  <thead>\n",
       "    <tr style=\"text-align: right;\">\n",
       "      <th></th>\n",
       "      <th>Brand</th>\n",
       "      <th>Type</th>\n",
       "      <th>Screen Size</th>\n",
       "      <th>Hard Disk</th>\n",
       "      <th>Operating System</th>\n",
       "      <th>Price ($)</th>\n",
       "      <th>weight</th>\n",
       "      <th>gpu brand</th>\n",
       "      <th>x_res</th>\n",
       "      <th>y_res</th>\n",
       "      <th>Touchscreen</th>\n",
       "      <th>IPS</th>\n",
       "      <th>RAM(GB)</th>\n",
       "      <th>i7</th>\n",
       "      <th>i5</th>\n",
       "      <th>i3</th>\n",
       "      <th>AMD</th>\n",
       "    </tr>\n",
       "  </thead>\n",
       "  <tbody>\n",
       "    <tr>\n",
       "      <th>0</th>\n",
       "      <td>1</td>\n",
       "      <td>1</td>\n",
       "      <td>13.3</td>\n",
       "      <td>128GB SSD</td>\n",
       "      <td>1</td>\n",
       "      <td>3568.93416</td>\n",
       "      <td>1.37</td>\n",
       "      <td>1</td>\n",
       "      <td>2560</td>\n",
       "      <td>1600</td>\n",
       "      <td>0</td>\n",
       "      <td>1</td>\n",
       "      <td>8</td>\n",
       "      <td>0</td>\n",
       "      <td>1</td>\n",
       "      <td>0</td>\n",
       "      <td>0</td>\n",
       "    </tr>\n",
       "    <tr>\n",
       "      <th>1</th>\n",
       "      <td>1</td>\n",
       "      <td>1</td>\n",
       "      <td>13.3</td>\n",
       "      <td>128GB Flash Storage</td>\n",
       "      <td>1</td>\n",
       "      <td>2394.77616</td>\n",
       "      <td>1.34</td>\n",
       "      <td>1</td>\n",
       "      <td>1440</td>\n",
       "      <td>900</td>\n",
       "      <td>0</td>\n",
       "      <td>0</td>\n",
       "      <td>8</td>\n",
       "      <td>0</td>\n",
       "      <td>1</td>\n",
       "      <td>0</td>\n",
       "      <td>0</td>\n",
       "    </tr>\n",
       "    <tr>\n",
       "      <th>2</th>\n",
       "      <td>2</td>\n",
       "      <td>2</td>\n",
       "      <td>15.6</td>\n",
       "      <td>256GB SSD</td>\n",
       "      <td>2</td>\n",
       "      <td>1531.80000</td>\n",
       "      <td>1.86</td>\n",
       "      <td>1</td>\n",
       "      <td>1920</td>\n",
       "      <td>1080</td>\n",
       "      <td>0</td>\n",
       "      <td>0</td>\n",
       "      <td>8</td>\n",
       "      <td>0</td>\n",
       "      <td>1</td>\n",
       "      <td>0</td>\n",
       "      <td>0</td>\n",
       "    </tr>\n",
       "    <tr>\n",
       "      <th>3</th>\n",
       "      <td>1</td>\n",
       "      <td>1</td>\n",
       "      <td>15.4</td>\n",
       "      <td>512GB SSD</td>\n",
       "      <td>1</td>\n",
       "      <td>6759.76680</td>\n",
       "      <td>1.83</td>\n",
       "      <td>2</td>\n",
       "      <td>2880</td>\n",
       "      <td>1800</td>\n",
       "      <td>0</td>\n",
       "      <td>1</td>\n",
       "      <td>16</td>\n",
       "      <td>1</td>\n",
       "      <td>0</td>\n",
       "      <td>0</td>\n",
       "      <td>0</td>\n",
       "    </tr>\n",
       "    <tr>\n",
       "      <th>4</th>\n",
       "      <td>1</td>\n",
       "      <td>1</td>\n",
       "      <td>13.3</td>\n",
       "      <td>256GB SSD</td>\n",
       "      <td>1</td>\n",
       "      <td>4804.79040</td>\n",
       "      <td>1.37</td>\n",
       "      <td>1</td>\n",
       "      <td>2560</td>\n",
       "      <td>1600</td>\n",
       "      <td>0</td>\n",
       "      <td>1</td>\n",
       "      <td>8</td>\n",
       "      <td>0</td>\n",
       "      <td>1</td>\n",
       "      <td>0</td>\n",
       "      <td>0</td>\n",
       "    </tr>\n",
       "    <tr>\n",
       "      <th>5</th>\n",
       "      <td>3</td>\n",
       "      <td>2</td>\n",
       "      <td>15.6</td>\n",
       "      <td>500GB HDD</td>\n",
       "      <td>3</td>\n",
       "      <td>1065.60000</td>\n",
       "      <td>2.10</td>\n",
       "      <td>2</td>\n",
       "      <td>1366</td>\n",
       "      <td>768</td>\n",
       "      <td>0</td>\n",
       "      <td>0</td>\n",
       "      <td>4</td>\n",
       "      <td>0</td>\n",
       "      <td>0</td>\n",
       "      <td>0</td>\n",
       "      <td>1</td>\n",
       "    </tr>\n",
       "    <tr>\n",
       "      <th>6</th>\n",
       "      <td>1</td>\n",
       "      <td>1</td>\n",
       "      <td>15.4</td>\n",
       "      <td>256GB Flash Storage</td>\n",
       "      <td>4</td>\n",
       "      <td>5700.88008</td>\n",
       "      <td>2.04</td>\n",
       "      <td>1</td>\n",
       "      <td>2880</td>\n",
       "      <td>1800</td>\n",
       "      <td>0</td>\n",
       "      <td>1</td>\n",
       "      <td>16</td>\n",
       "      <td>1</td>\n",
       "      <td>0</td>\n",
       "      <td>0</td>\n",
       "      <td>0</td>\n",
       "    </tr>\n",
       "    <tr>\n",
       "      <th>7</th>\n",
       "      <td>1</td>\n",
       "      <td>1</td>\n",
       "      <td>13.3</td>\n",
       "      <td>256GB Flash Storage</td>\n",
       "      <td>1</td>\n",
       "      <td>3086.77680</td>\n",
       "      <td>1.34</td>\n",
       "      <td>1</td>\n",
       "      <td>1440</td>\n",
       "      <td>900</td>\n",
       "      <td>0</td>\n",
       "      <td>0</td>\n",
       "      <td>8</td>\n",
       "      <td>0</td>\n",
       "      <td>1</td>\n",
       "      <td>0</td>\n",
       "      <td>0</td>\n",
       "    </tr>\n",
       "  </tbody>\n",
       "</table>\n",
       "</div>"
      ],
      "text/plain": [
       "   Brand  Type  Screen Size            Hard Disk  Operating System  \\\n",
       "0      1     1         13.3            128GB SSD                 1   \n",
       "1      1     1         13.3  128GB Flash Storage                 1   \n",
       "2      2     2         15.6            256GB SSD                 2   \n",
       "3      1     1         15.4            512GB SSD                 1   \n",
       "4      1     1         13.3            256GB SSD                 1   \n",
       "5      3     2         15.6            500GB HDD                 3   \n",
       "6      1     1         15.4  256GB Flash Storage                 4   \n",
       "7      1     1         13.3  256GB Flash Storage                 1   \n",
       "\n",
       "    Price ($)  weight  gpu brand  x_res  y_res  Touchscreen  IPS  RAM(GB)  i7  \\\n",
       "0  3568.93416    1.37          1   2560   1600            0    1        8   0   \n",
       "1  2394.77616    1.34          1   1440    900            0    0        8   0   \n",
       "2  1531.80000    1.86          1   1920   1080            0    0        8   0   \n",
       "3  6759.76680    1.83          2   2880   1800            0    1       16   1   \n",
       "4  4804.79040    1.37          1   2560   1600            0    1        8   0   \n",
       "5  1065.60000    2.10          2   1366    768            0    0        4   0   \n",
       "6  5700.88008    2.04          1   2880   1800            0    1       16   1   \n",
       "7  3086.77680    1.34          1   1440    900            0    0        8   0   \n",
       "\n",
       "   i5  i3  AMD  \n",
       "0   1   0    0  \n",
       "1   1   0    0  \n",
       "2   1   0    0  \n",
       "3   0   0    0  \n",
       "4   1   0    0  \n",
       "5   0   0    1  \n",
       "6   0   0    0  \n",
       "7   1   0    0  "
      ]
     },
     "execution_count": 78,
     "metadata": {},
     "output_type": "execute_result"
    }
   ],
   "source": [
    "df2.head(8)"
   ]
  },
  {
   "cell_type": "markdown",
   "id": "06b9f009",
   "metadata": {},
   "source": [
    "### HARD DISK"
   ]
  },
  {
   "cell_type": "code",
   "execution_count": 79,
   "id": "d2da6dc3",
   "metadata": {},
   "outputs": [],
   "source": [
    "# I had to set one common unit so I wanted to change all the valyes for TB to 1000 and I wanted to get rid of words for \n",
    "# splittig and calculation that will be carried out later"
   ]
  },
  {
   "cell_type": "code",
   "execution_count": 80,
   "id": "637bd542",
   "metadata": {},
   "outputs": [],
   "source": [
    "df2[\"Hard Disk\"] = df2[\"Hard Disk\"].astype(str).replace('.0', '', regex=True)\n",
    "df2[\"Hard Disk\"] = df2[\"Hard Disk\"].str.replace('GB', '')\n",
    "df2[\"Hard Disk\"] = df2[\"Hard Disk\"].str.replace('TB', '000')"
   ]
  },
  {
   "cell_type": "code",
   "execution_count": 81,
   "id": "2c5748eb",
   "metadata": {},
   "outputs": [
    {
     "data": {
      "text/html": [
       "<div>\n",
       "<style scoped>\n",
       "    .dataframe tbody tr th:only-of-type {\n",
       "        vertical-align: middle;\n",
       "    }\n",
       "\n",
       "    .dataframe tbody tr th {\n",
       "        vertical-align: top;\n",
       "    }\n",
       "\n",
       "    .dataframe thead th {\n",
       "        text-align: right;\n",
       "    }\n",
       "</style>\n",
       "<table border=\"1\" class=\"dataframe\">\n",
       "  <thead>\n",
       "    <tr style=\"text-align: right;\">\n",
       "      <th></th>\n",
       "      <th>Brand</th>\n",
       "      <th>Type</th>\n",
       "      <th>Screen Size</th>\n",
       "      <th>Hard Disk</th>\n",
       "      <th>Operating System</th>\n",
       "      <th>Price ($)</th>\n",
       "      <th>weight</th>\n",
       "      <th>gpu brand</th>\n",
       "      <th>x_res</th>\n",
       "      <th>y_res</th>\n",
       "      <th>Touchscreen</th>\n",
       "      <th>IPS</th>\n",
       "      <th>RAM(GB)</th>\n",
       "      <th>i7</th>\n",
       "      <th>i5</th>\n",
       "      <th>i3</th>\n",
       "      <th>AMD</th>\n",
       "    </tr>\n",
       "  </thead>\n",
       "  <tbody>\n",
       "    <tr>\n",
       "      <th>0</th>\n",
       "      <td>1</td>\n",
       "      <td>1</td>\n",
       "      <td>13.3</td>\n",
       "      <td>128 SSD</td>\n",
       "      <td>1</td>\n",
       "      <td>3568.93416</td>\n",
       "      <td>1.37</td>\n",
       "      <td>1</td>\n",
       "      <td>2560</td>\n",
       "      <td>1600</td>\n",
       "      <td>0</td>\n",
       "      <td>1</td>\n",
       "      <td>8</td>\n",
       "      <td>0</td>\n",
       "      <td>1</td>\n",
       "      <td>0</td>\n",
       "      <td>0</td>\n",
       "    </tr>\n",
       "    <tr>\n",
       "      <th>1</th>\n",
       "      <td>1</td>\n",
       "      <td>1</td>\n",
       "      <td>13.3</td>\n",
       "      <td>128 Flash Storage</td>\n",
       "      <td>1</td>\n",
       "      <td>2394.77616</td>\n",
       "      <td>1.34</td>\n",
       "      <td>1</td>\n",
       "      <td>1440</td>\n",
       "      <td>900</td>\n",
       "      <td>0</td>\n",
       "      <td>0</td>\n",
       "      <td>8</td>\n",
       "      <td>0</td>\n",
       "      <td>1</td>\n",
       "      <td>0</td>\n",
       "      <td>0</td>\n",
       "    </tr>\n",
       "  </tbody>\n",
       "</table>\n",
       "</div>"
      ],
      "text/plain": [
       "   Brand  Type  Screen Size          Hard Disk  Operating System   Price ($)  \\\n",
       "0      1     1         13.3            128 SSD                 1  3568.93416   \n",
       "1      1     1         13.3  128 Flash Storage                 1  2394.77616   \n",
       "\n",
       "   weight  gpu brand  x_res  y_res  Touchscreen  IPS  RAM(GB)  i7  i5  i3  AMD  \n",
       "0    1.37          1   2560   1600            0    1        8   0   1   0    0  \n",
       "1    1.34          1   1440    900            0    0        8   0   1   0    0  "
      ]
     },
     "execution_count": 81,
     "metadata": {},
     "output_type": "execute_result"
    }
   ],
   "source": [
    "df2.head(2)"
   ]
  },
  {
   "cell_type": "code",
   "execution_count": 82,
   "id": "88f9cffb",
   "metadata": {},
   "outputs": [],
   "source": [
    "# there is some additional storage so i had to split and this resulted in 2 new columns"
   ]
  },
  {
   "cell_type": "code",
   "execution_count": 83,
   "id": "a299ff7b",
   "metadata": {},
   "outputs": [],
   "source": [
    "df2[['hard disk','extra']]= df2[\"Hard Disk\"].str.split(\"+\", n = 1, expand = True)"
   ]
  },
  {
   "cell_type": "code",
   "execution_count": 85,
   "id": "b659595f",
   "metadata": {},
   "outputs": [
    {
     "data": {
      "text/html": [
       "<div>\n",
       "<style scoped>\n",
       "    .dataframe tbody tr th:only-of-type {\n",
       "        vertical-align: middle;\n",
       "    }\n",
       "\n",
       "    .dataframe tbody tr th {\n",
       "        vertical-align: top;\n",
       "    }\n",
       "\n",
       "    .dataframe thead th {\n",
       "        text-align: right;\n",
       "    }\n",
       "</style>\n",
       "<table border=\"1\" class=\"dataframe\">\n",
       "  <thead>\n",
       "    <tr style=\"text-align: right;\">\n",
       "      <th></th>\n",
       "      <th>Brand</th>\n",
       "      <th>Type</th>\n",
       "      <th>Screen Size</th>\n",
       "      <th>Hard Disk</th>\n",
       "      <th>Operating System</th>\n",
       "      <th>Price ($)</th>\n",
       "      <th>weight</th>\n",
       "      <th>gpu brand</th>\n",
       "      <th>x_res</th>\n",
       "      <th>y_res</th>\n",
       "      <th>Touchscreen</th>\n",
       "      <th>IPS</th>\n",
       "      <th>RAM(GB)</th>\n",
       "      <th>i7</th>\n",
       "      <th>i5</th>\n",
       "      <th>i3</th>\n",
       "      <th>AMD</th>\n",
       "      <th>hard disk</th>\n",
       "      <th>extra</th>\n",
       "    </tr>\n",
       "  </thead>\n",
       "  <tbody>\n",
       "    <tr>\n",
       "      <th>0</th>\n",
       "      <td>1</td>\n",
       "      <td>1</td>\n",
       "      <td>13.3</td>\n",
       "      <td>128 SSD</td>\n",
       "      <td>1</td>\n",
       "      <td>3568.93416</td>\n",
       "      <td>1.37</td>\n",
       "      <td>1</td>\n",
       "      <td>2560</td>\n",
       "      <td>1600</td>\n",
       "      <td>0</td>\n",
       "      <td>1</td>\n",
       "      <td>8</td>\n",
       "      <td>0</td>\n",
       "      <td>1</td>\n",
       "      <td>0</td>\n",
       "      <td>0</td>\n",
       "      <td>128 SSD</td>\n",
       "      <td>None</td>\n",
       "    </tr>\n",
       "    <tr>\n",
       "      <th>1</th>\n",
       "      <td>1</td>\n",
       "      <td>1</td>\n",
       "      <td>13.3</td>\n",
       "      <td>128 Flash Storage</td>\n",
       "      <td>1</td>\n",
       "      <td>2394.77616</td>\n",
       "      <td>1.34</td>\n",
       "      <td>1</td>\n",
       "      <td>1440</td>\n",
       "      <td>900</td>\n",
       "      <td>0</td>\n",
       "      <td>0</td>\n",
       "      <td>8</td>\n",
       "      <td>0</td>\n",
       "      <td>1</td>\n",
       "      <td>0</td>\n",
       "      <td>0</td>\n",
       "      <td>128 Flash Storage</td>\n",
       "      <td>None</td>\n",
       "    </tr>\n",
       "  </tbody>\n",
       "</table>\n",
       "</div>"
      ],
      "text/plain": [
       "   Brand  Type  Screen Size          Hard Disk  Operating System   Price ($)  \\\n",
       "0      1     1         13.3            128 SSD                 1  3568.93416   \n",
       "1      1     1         13.3  128 Flash Storage                 1  2394.77616   \n",
       "\n",
       "   weight  gpu brand  x_res  y_res  Touchscreen  IPS  RAM(GB)  i7  i5  i3  \\\n",
       "0    1.37          1   2560   1600            0    1        8   0   1   0   \n",
       "1    1.34          1   1440    900            0    0        8   0   1   0   \n",
       "\n",
       "   AMD          hard disk extra  \n",
       "0    0            128 SSD  None  \n",
       "1    0  128 Flash Storage  None  "
      ]
     },
     "execution_count": 85,
     "metadata": {},
     "output_type": "execute_result"
    }
   ],
   "source": [
    "df2.head(2)"
   ]
  },
  {
   "cell_type": "code",
   "execution_count": 86,
   "id": "d94e4a4d",
   "metadata": {},
   "outputs": [],
   "source": [
    "# not all have additional storage so i filled the null values with 0 "
   ]
  },
  {
   "cell_type": "code",
   "execution_count": 87,
   "id": "83be6b1b",
   "metadata": {},
   "outputs": [],
   "source": [
    "df2[\"extra\"].fillna(\"0\", inplace = True)"
   ]
  },
  {
   "cell_type": "code",
   "execution_count": 88,
   "id": "2971db5c",
   "metadata": {},
   "outputs": [],
   "source": [
    "# created 4 new columns from the new hard disk column where I did hot encoding for each type of hard disk"
   ]
  },
  {
   "cell_type": "code",
   "execution_count": 89,
   "id": "0830c521",
   "metadata": {},
   "outputs": [],
   "source": [
    "df2[\"HDD\"] = df2[\"hard disk\"].apply(lambda x: 1 if \"HDD\" in x else 0)\n",
    "df2[\"SSD\"] = df2[\"hard disk\"].apply(lambda x: 1 if \"SSD\" in x else 0)\n",
    "df2[\"Hybrid\"] = df2[\"hard disk\"].apply(lambda x: 1 if \"Hybrid\" in x else 0)\n",
    "df2[\"Flash_Storage\"] = df2[\"hard disk\"].apply(lambda x: 1 if \"Flash Storage\" in x else 0)"
   ]
  },
  {
   "cell_type": "code",
   "execution_count": 90,
   "id": "69f4d477",
   "metadata": {},
   "outputs": [],
   "source": [
    "# taking into consideration the extra column, i did hot encoding for all the extra hard disk storage and created 4 more columns"
   ]
  },
  {
   "cell_type": "code",
   "execution_count": 91,
   "id": "f6e538f0",
   "metadata": {},
   "outputs": [],
   "source": [
    "df2[\"extraHDD\"] = df2[\"extra\"].apply(lambda x: 1 if \"HDD\" in x else 0)\n",
    "df2[\"extraSSD\"] = df2[\"extra\"].apply(lambda x: 1 if \"SSD\" in x else 0)\n",
    "df2[\"extraHybrid\"] = df2[\"extra\"].apply(lambda x: 1 if \"Hybrid\" in x else 0)\n",
    "df2[\"extraFlash_Storage\"] = df2[\"extra\"].apply(lambda x: 1 if \"Flash Storage\" in x else 0)"
   ]
  },
  {
   "cell_type": "code",
   "execution_count": 92,
   "id": "f2ab6940",
   "metadata": {
    "scrolled": false
   },
   "outputs": [
    {
     "data": {
      "text/html": [
       "<div>\n",
       "<style scoped>\n",
       "    .dataframe tbody tr th:only-of-type {\n",
       "        vertical-align: middle;\n",
       "    }\n",
       "\n",
       "    .dataframe tbody tr th {\n",
       "        vertical-align: top;\n",
       "    }\n",
       "\n",
       "    .dataframe thead th {\n",
       "        text-align: right;\n",
       "    }\n",
       "</style>\n",
       "<table border=\"1\" class=\"dataframe\">\n",
       "  <thead>\n",
       "    <tr style=\"text-align: right;\">\n",
       "      <th></th>\n",
       "      <th>Brand</th>\n",
       "      <th>Type</th>\n",
       "      <th>Screen Size</th>\n",
       "      <th>Hard Disk</th>\n",
       "      <th>Operating System</th>\n",
       "      <th>Price ($)</th>\n",
       "      <th>weight</th>\n",
       "      <th>gpu brand</th>\n",
       "      <th>x_res</th>\n",
       "      <th>y_res</th>\n",
       "      <th>...</th>\n",
       "      <th>hard disk</th>\n",
       "      <th>extra</th>\n",
       "      <th>HDD</th>\n",
       "      <th>SSD</th>\n",
       "      <th>Hybrid</th>\n",
       "      <th>Flash_Storage</th>\n",
       "      <th>extraHDD</th>\n",
       "      <th>extraSSD</th>\n",
       "      <th>extraHybrid</th>\n",
       "      <th>extraFlash_Storage</th>\n",
       "    </tr>\n",
       "  </thead>\n",
       "  <tbody>\n",
       "    <tr>\n",
       "      <th>20</th>\n",
       "      <td>4</td>\n",
       "      <td>3</td>\n",
       "      <td>11.6</td>\n",
       "      <td>32 Flash Storage</td>\n",
       "      <td>3</td>\n",
       "      <td>511.2216</td>\n",
       "      <td>0.98</td>\n",
       "      <td>1</td>\n",
       "      <td>1366</td>\n",
       "      <td>768</td>\n",
       "      <td>...</td>\n",
       "      <td>32 Flash Storage</td>\n",
       "      <td>0</td>\n",
       "      <td>0</td>\n",
       "      <td>0</td>\n",
       "      <td>0</td>\n",
       "      <td>1</td>\n",
       "      <td>0</td>\n",
       "      <td>0</td>\n",
       "      <td>0</td>\n",
       "      <td>0</td>\n",
       "    </tr>\n",
       "    <tr>\n",
       "      <th>21</th>\n",
       "      <td>6</td>\n",
       "      <td>4</td>\n",
       "      <td>15.6</td>\n",
       "      <td>128 SSD +  1000 HDD</td>\n",
       "      <td>3</td>\n",
       "      <td>2661.3360</td>\n",
       "      <td>2.50</td>\n",
       "      <td>3</td>\n",
       "      <td>1920</td>\n",
       "      <td>1080</td>\n",
       "      <td>...</td>\n",
       "      <td>128 SSD</td>\n",
       "      <td>1000 HDD</td>\n",
       "      <td>0</td>\n",
       "      <td>1</td>\n",
       "      <td>0</td>\n",
       "      <td>0</td>\n",
       "      <td>1</td>\n",
       "      <td>0</td>\n",
       "      <td>0</td>\n",
       "      <td>0</td>\n",
       "    </tr>\n",
       "    <tr>\n",
       "      <th>22</th>\n",
       "      <td>2</td>\n",
       "      <td>2</td>\n",
       "      <td>15.6</td>\n",
       "      <td>0 HDD</td>\n",
       "      <td>2</td>\n",
       "      <td>687.3120</td>\n",
       "      <td>1.86</td>\n",
       "      <td>2</td>\n",
       "      <td>1366</td>\n",
       "      <td>768</td>\n",
       "      <td>...</td>\n",
       "      <td>0 HDD</td>\n",
       "      <td>0</td>\n",
       "      <td>1</td>\n",
       "      <td>0</td>\n",
       "      <td>0</td>\n",
       "      <td>0</td>\n",
       "      <td>0</td>\n",
       "      <td>0</td>\n",
       "      <td>0</td>\n",
       "      <td>0</td>\n",
       "    </tr>\n",
       "    <tr>\n",
       "      <th>23</th>\n",
       "      <td>5</td>\n",
       "      <td>5</td>\n",
       "      <td>13.3</td>\n",
       "      <td>256 SSD</td>\n",
       "      <td>3</td>\n",
       "      <td>2181.8160</td>\n",
       "      <td>1.62</td>\n",
       "      <td>1</td>\n",
       "      <td>1920</td>\n",
       "      <td>1080</td>\n",
       "      <td>...</td>\n",
       "      <td>256 SSD</td>\n",
       "      <td>0</td>\n",
       "      <td>0</td>\n",
       "      <td>1</td>\n",
       "      <td>0</td>\n",
       "      <td>0</td>\n",
       "      <td>0</td>\n",
       "      <td>0</td>\n",
       "      <td>0</td>\n",
       "      <td>0</td>\n",
       "    </tr>\n",
       "  </tbody>\n",
       "</table>\n",
       "<p>4 rows × 27 columns</p>\n",
       "</div>"
      ],
      "text/plain": [
       "    Brand  Type  Screen Size            Hard Disk  Operating System  \\\n",
       "20      4     3         11.6     32 Flash Storage                 3   \n",
       "21      6     4         15.6  128 SSD +  1000 HDD                 3   \n",
       "22      2     2         15.6                0 HDD                 2   \n",
       "23      5     5         13.3              256 SSD                 3   \n",
       "\n",
       "    Price ($)  weight  gpu brand  x_res  y_res  ...         hard disk  \\\n",
       "20   511.2216    0.98          1   1366    768  ...  32 Flash Storage   \n",
       "21  2661.3360    2.50          3   1920   1080  ...          128 SSD    \n",
       "22   687.3120    1.86          2   1366    768  ...             0 HDD   \n",
       "23  2181.8160    1.62          1   1920   1080  ...           256 SSD   \n",
       "\n",
       "         extra  HDD  SSD  Hybrid  Flash_Storage  extraHDD extraSSD  \\\n",
       "20           0    0    0       0              1         0        0   \n",
       "21    1000 HDD    0    1       0              0         1        0   \n",
       "22           0    1    0       0              0         0        0   \n",
       "23           0    0    1       0              0         0        0   \n",
       "\n",
       "   extraHybrid  extraFlash_Storage  \n",
       "20           0                   0  \n",
       "21           0                   0  \n",
       "22           0                   0  \n",
       "23           0                   0  \n",
       "\n",
       "[4 rows x 27 columns]"
      ]
     },
     "execution_count": 92,
     "metadata": {},
     "output_type": "execute_result"
    }
   ],
   "source": [
    "df2[20:24]"
   ]
  },
  {
   "cell_type": "code",
   "execution_count": 93,
   "id": "2d981d8a",
   "metadata": {},
   "outputs": [],
   "source": [
    "# I then multiplied the extra storage with the default for each type of hard disk and created 4 more columns"
   ]
  },
  {
   "cell_type": "code",
   "execution_count": 94,
   "id": "8b650f19",
   "metadata": {},
   "outputs": [],
   "source": [
    "df2[\"HDD\"]=(df2[\"hard disk\"]*df2[\"HDD\"]+df2[\"extra\"]*df2[\"extraHDD\"])\n",
    "df2[\"SSD\"]=(df2[\"hard disk\"]*df2[\"SSD\"]+df2[\"extra\"]*df2[\"extraSSD\"])\n",
    "df2[\"Hybrid\"]=(df2[\"hard disk\"]*df2[\"Hybrid\"]+df2[\"extra\"]*df2[\"extraHybrid\"])\n",
    "df2[\"Flash_Storage\"]=(df2[\"hard disk\"]*df2[\"Flash_Storage\"]+df2[\"extra\"]*df2[\"extraFlash_Storage\"])"
   ]
  },
  {
   "cell_type": "code",
   "execution_count": 95,
   "id": "3716942e",
   "metadata": {},
   "outputs": [
    {
     "data": {
      "text/html": [
       "<div>\n",
       "<style scoped>\n",
       "    .dataframe tbody tr th:only-of-type {\n",
       "        vertical-align: middle;\n",
       "    }\n",
       "\n",
       "    .dataframe tbody tr th {\n",
       "        vertical-align: top;\n",
       "    }\n",
       "\n",
       "    .dataframe thead th {\n",
       "        text-align: right;\n",
       "    }\n",
       "</style>\n",
       "<table border=\"1\" class=\"dataframe\">\n",
       "  <thead>\n",
       "    <tr style=\"text-align: right;\">\n",
       "      <th></th>\n",
       "      <th>Brand</th>\n",
       "      <th>Type</th>\n",
       "      <th>Screen Size</th>\n",
       "      <th>Hard Disk</th>\n",
       "      <th>Operating System</th>\n",
       "      <th>Price ($)</th>\n",
       "      <th>weight</th>\n",
       "      <th>gpu brand</th>\n",
       "      <th>x_res</th>\n",
       "      <th>y_res</th>\n",
       "      <th>...</th>\n",
       "      <th>hard disk</th>\n",
       "      <th>extra</th>\n",
       "      <th>HDD</th>\n",
       "      <th>SSD</th>\n",
       "      <th>Hybrid</th>\n",
       "      <th>Flash_Storage</th>\n",
       "      <th>extraHDD</th>\n",
       "      <th>extraSSD</th>\n",
       "      <th>extraHybrid</th>\n",
       "      <th>extraFlash_Storage</th>\n",
       "    </tr>\n",
       "  </thead>\n",
       "  <tbody>\n",
       "    <tr>\n",
       "      <th>0</th>\n",
       "      <td>1</td>\n",
       "      <td>1</td>\n",
       "      <td>13.3</td>\n",
       "      <td>128 SSD</td>\n",
       "      <td>1</td>\n",
       "      <td>3568.93416</td>\n",
       "      <td>1.37</td>\n",
       "      <td>1</td>\n",
       "      <td>2560</td>\n",
       "      <td>1600</td>\n",
       "      <td>...</td>\n",
       "      <td>128 SSD</td>\n",
       "      <td>0</td>\n",
       "      <td></td>\n",
       "      <td>128 SSD</td>\n",
       "      <td></td>\n",
       "      <td></td>\n",
       "      <td>0</td>\n",
       "      <td>0</td>\n",
       "      <td>0</td>\n",
       "      <td>0</td>\n",
       "    </tr>\n",
       "    <tr>\n",
       "      <th>1</th>\n",
       "      <td>1</td>\n",
       "      <td>1</td>\n",
       "      <td>13.3</td>\n",
       "      <td>128 Flash Storage</td>\n",
       "      <td>1</td>\n",
       "      <td>2394.77616</td>\n",
       "      <td>1.34</td>\n",
       "      <td>1</td>\n",
       "      <td>1440</td>\n",
       "      <td>900</td>\n",
       "      <td>...</td>\n",
       "      <td>128 Flash Storage</td>\n",
       "      <td>0</td>\n",
       "      <td></td>\n",
       "      <td></td>\n",
       "      <td></td>\n",
       "      <td>128 Flash Storage</td>\n",
       "      <td>0</td>\n",
       "      <td>0</td>\n",
       "      <td>0</td>\n",
       "      <td>0</td>\n",
       "    </tr>\n",
       "    <tr>\n",
       "      <th>2</th>\n",
       "      <td>2</td>\n",
       "      <td>2</td>\n",
       "      <td>15.6</td>\n",
       "      <td>256 SSD</td>\n",
       "      <td>2</td>\n",
       "      <td>1531.80000</td>\n",
       "      <td>1.86</td>\n",
       "      <td>1</td>\n",
       "      <td>1920</td>\n",
       "      <td>1080</td>\n",
       "      <td>...</td>\n",
       "      <td>256 SSD</td>\n",
       "      <td>0</td>\n",
       "      <td></td>\n",
       "      <td>256 SSD</td>\n",
       "      <td></td>\n",
       "      <td></td>\n",
       "      <td>0</td>\n",
       "      <td>0</td>\n",
       "      <td>0</td>\n",
       "      <td>0</td>\n",
       "    </tr>\n",
       "  </tbody>\n",
       "</table>\n",
       "<p>3 rows × 27 columns</p>\n",
       "</div>"
      ],
      "text/plain": [
       "   Brand  Type  Screen Size          Hard Disk  Operating System   Price ($)  \\\n",
       "0      1     1         13.3            128 SSD                 1  3568.93416   \n",
       "1      1     1         13.3  128 Flash Storage                 1  2394.77616   \n",
       "2      2     2         15.6            256 SSD                 2  1531.80000   \n",
       "\n",
       "   weight  gpu brand  x_res  y_res  ...          hard disk  extra  HDD  \\\n",
       "0    1.37          1   2560   1600  ...            128 SSD      0        \n",
       "1    1.34          1   1440    900  ...  128 Flash Storage      0        \n",
       "2    1.86          1   1920   1080  ...            256 SSD      0        \n",
       "\n",
       "       SSD  Hybrid      Flash_Storage  extraHDD extraSSD extraHybrid  \\\n",
       "0  128 SSD                                    0        0           0   \n",
       "1                   128 Flash Storage         0        0           0   \n",
       "2  256 SSD                                    0        0           0   \n",
       "\n",
       "  extraFlash_Storage  \n",
       "0                  0  \n",
       "1                  0  \n",
       "2                  0  \n",
       "\n",
       "[3 rows x 27 columns]"
      ]
     },
     "execution_count": 95,
     "metadata": {},
     "output_type": "execute_result"
    }
   ],
   "source": [
    "df2.head(3)"
   ]
  },
  {
   "cell_type": "code",
   "execution_count": 96,
   "id": "7056da61",
   "metadata": {},
   "outputs": [],
   "source": [
    "# I then splitted the strings in each column so that I will only obtain the number. I filled all the null values with 0"
   ]
  },
  {
   "cell_type": "code",
   "execution_count": 97,
   "id": "2749b2e2",
   "metadata": {},
   "outputs": [],
   "source": [
    "df2['hdd'] = df2['HDD'].apply(lambda x: x if len(x)<2 else x.split()[0])\n",
    "df2['ssd'] = df2['SSD'].apply(lambda x: x if len(x)<2 else x.split()[0])\n",
    "df2['hybrid'] = df2['Hybrid'].apply(lambda x: x if len(x)<2 else x.split()[0])\n",
    "df2['flash_storage'] = df2['Flash_Storage'].apply(lambda x: x if len(x)<2 else x.split()[0])"
   ]
  },
  {
   "cell_type": "code",
   "execution_count": 98,
   "id": "305e9bcb",
   "metadata": {},
   "outputs": [],
   "source": [
    "df2['hdd'] = df2['hdd'].apply(pd.to_numeric)\n",
    "df2['ssd'] = df2['ssd'].apply(pd.to_numeric)\n",
    "df2['hybrid'] = df2['hybrid'].apply(pd.to_numeric)\n",
    "df2['flash_storage'] = df2['flash_storage'].apply(pd.to_numeric)"
   ]
  },
  {
   "cell_type": "code",
   "execution_count": 100,
   "id": "37e21470",
   "metadata": {},
   "outputs": [],
   "source": [
    "df2[\"hdd\"].fillna(\"0\", inplace = True)\n",
    "df2[\"ssd\"].fillna(\"0\", inplace = True)\n",
    "df2[\"hybrid\"].fillna(\"0\", inplace = True)\n",
    "df2[\"flash_storage\"].fillna(\"0\", inplace = True)"
   ]
  },
  {
   "cell_type": "code",
   "execution_count": 101,
   "id": "168229da",
   "metadata": {},
   "outputs": [],
   "source": [
    "df2 = df2.drop(['hard disk', 'extra', 'HDD', 'SSD', 'Hybrid','Flash_Storage', 'extraHDD', 'extraSSD', 'extraHybrid',\n",
    "                        'extraFlash_Storage'],axis = 1)"
   ]
  },
  {
   "cell_type": "code",
   "execution_count": 102,
   "id": "af1caf3c",
   "metadata": {},
   "outputs": [],
   "source": [
    "df2 = df2.drop('Hard Disk', axis=1)"
   ]
  },
  {
   "cell_type": "code",
   "execution_count": 103,
   "id": "9555a627",
   "metadata": {},
   "outputs": [
    {
     "data": {
      "text/html": [
       "<div>\n",
       "<style scoped>\n",
       "    .dataframe tbody tr th:only-of-type {\n",
       "        vertical-align: middle;\n",
       "    }\n",
       "\n",
       "    .dataframe tbody tr th {\n",
       "        vertical-align: top;\n",
       "    }\n",
       "\n",
       "    .dataframe thead th {\n",
       "        text-align: right;\n",
       "    }\n",
       "</style>\n",
       "<table border=\"1\" class=\"dataframe\">\n",
       "  <thead>\n",
       "    <tr style=\"text-align: right;\">\n",
       "      <th></th>\n",
       "      <th>Brand</th>\n",
       "      <th>Type</th>\n",
       "      <th>Screen Size</th>\n",
       "      <th>Operating System</th>\n",
       "      <th>Price ($)</th>\n",
       "      <th>weight</th>\n",
       "      <th>gpu brand</th>\n",
       "      <th>x_res</th>\n",
       "      <th>y_res</th>\n",
       "      <th>Touchscreen</th>\n",
       "      <th>IPS</th>\n",
       "      <th>RAM(GB)</th>\n",
       "      <th>i7</th>\n",
       "      <th>i5</th>\n",
       "      <th>i3</th>\n",
       "      <th>AMD</th>\n",
       "      <th>hdd</th>\n",
       "      <th>ssd</th>\n",
       "      <th>hybrid</th>\n",
       "      <th>flash_storage</th>\n",
       "    </tr>\n",
       "  </thead>\n",
       "  <tbody>\n",
       "    <tr>\n",
       "      <th>0</th>\n",
       "      <td>1</td>\n",
       "      <td>1</td>\n",
       "      <td>13.3</td>\n",
       "      <td>1</td>\n",
       "      <td>3568.93416</td>\n",
       "      <td>1.37</td>\n",
       "      <td>1</td>\n",
       "      <td>2560</td>\n",
       "      <td>1600</td>\n",
       "      <td>0</td>\n",
       "      <td>1</td>\n",
       "      <td>8</td>\n",
       "      <td>0</td>\n",
       "      <td>1</td>\n",
       "      <td>0</td>\n",
       "      <td>0</td>\n",
       "      <td>0</td>\n",
       "      <td>128.0</td>\n",
       "      <td>0</td>\n",
       "      <td>0</td>\n",
       "    </tr>\n",
       "    <tr>\n",
       "      <th>1</th>\n",
       "      <td>1</td>\n",
       "      <td>1</td>\n",
       "      <td>13.3</td>\n",
       "      <td>1</td>\n",
       "      <td>2394.77616</td>\n",
       "      <td>1.34</td>\n",
       "      <td>1</td>\n",
       "      <td>1440</td>\n",
       "      <td>900</td>\n",
       "      <td>0</td>\n",
       "      <td>0</td>\n",
       "      <td>8</td>\n",
       "      <td>0</td>\n",
       "      <td>1</td>\n",
       "      <td>0</td>\n",
       "      <td>0</td>\n",
       "      <td>0</td>\n",
       "      <td>0</td>\n",
       "      <td>0</td>\n",
       "      <td>128.0</td>\n",
       "    </tr>\n",
       "    <tr>\n",
       "      <th>2</th>\n",
       "      <td>2</td>\n",
       "      <td>2</td>\n",
       "      <td>15.6</td>\n",
       "      <td>2</td>\n",
       "      <td>1531.80000</td>\n",
       "      <td>1.86</td>\n",
       "      <td>1</td>\n",
       "      <td>1920</td>\n",
       "      <td>1080</td>\n",
       "      <td>0</td>\n",
       "      <td>0</td>\n",
       "      <td>8</td>\n",
       "      <td>0</td>\n",
       "      <td>1</td>\n",
       "      <td>0</td>\n",
       "      <td>0</td>\n",
       "      <td>0</td>\n",
       "      <td>256.0</td>\n",
       "      <td>0</td>\n",
       "      <td>0</td>\n",
       "    </tr>\n",
       "    <tr>\n",
       "      <th>3</th>\n",
       "      <td>1</td>\n",
       "      <td>1</td>\n",
       "      <td>15.4</td>\n",
       "      <td>1</td>\n",
       "      <td>6759.76680</td>\n",
       "      <td>1.83</td>\n",
       "      <td>2</td>\n",
       "      <td>2880</td>\n",
       "      <td>1800</td>\n",
       "      <td>0</td>\n",
       "      <td>1</td>\n",
       "      <td>16</td>\n",
       "      <td>1</td>\n",
       "      <td>0</td>\n",
       "      <td>0</td>\n",
       "      <td>0</td>\n",
       "      <td>0</td>\n",
       "      <td>512.0</td>\n",
       "      <td>0</td>\n",
       "      <td>0</td>\n",
       "    </tr>\n",
       "    <tr>\n",
       "      <th>4</th>\n",
       "      <td>1</td>\n",
       "      <td>1</td>\n",
       "      <td>13.3</td>\n",
       "      <td>1</td>\n",
       "      <td>4804.79040</td>\n",
       "      <td>1.37</td>\n",
       "      <td>1</td>\n",
       "      <td>2560</td>\n",
       "      <td>1600</td>\n",
       "      <td>0</td>\n",
       "      <td>1</td>\n",
       "      <td>8</td>\n",
       "      <td>0</td>\n",
       "      <td>1</td>\n",
       "      <td>0</td>\n",
       "      <td>0</td>\n",
       "      <td>0</td>\n",
       "      <td>256.0</td>\n",
       "      <td>0</td>\n",
       "      <td>0</td>\n",
       "    </tr>\n",
       "    <tr>\n",
       "      <th>5</th>\n",
       "      <td>3</td>\n",
       "      <td>2</td>\n",
       "      <td>15.6</td>\n",
       "      <td>3</td>\n",
       "      <td>1065.60000</td>\n",
       "      <td>2.10</td>\n",
       "      <td>2</td>\n",
       "      <td>1366</td>\n",
       "      <td>768</td>\n",
       "      <td>0</td>\n",
       "      <td>0</td>\n",
       "      <td>4</td>\n",
       "      <td>0</td>\n",
       "      <td>0</td>\n",
       "      <td>0</td>\n",
       "      <td>1</td>\n",
       "      <td>0.0</td>\n",
       "      <td>0</td>\n",
       "      <td>0</td>\n",
       "      <td>0</td>\n",
       "    </tr>\n",
       "    <tr>\n",
       "      <th>6</th>\n",
       "      <td>1</td>\n",
       "      <td>1</td>\n",
       "      <td>15.4</td>\n",
       "      <td>4</td>\n",
       "      <td>5700.88008</td>\n",
       "      <td>2.04</td>\n",
       "      <td>1</td>\n",
       "      <td>2880</td>\n",
       "      <td>1800</td>\n",
       "      <td>0</td>\n",
       "      <td>1</td>\n",
       "      <td>16</td>\n",
       "      <td>1</td>\n",
       "      <td>0</td>\n",
       "      <td>0</td>\n",
       "      <td>0</td>\n",
       "      <td>0</td>\n",
       "      <td>0</td>\n",
       "      <td>0</td>\n",
       "      <td>256.0</td>\n",
       "    </tr>\n",
       "    <tr>\n",
       "      <th>7</th>\n",
       "      <td>1</td>\n",
       "      <td>1</td>\n",
       "      <td>13.3</td>\n",
       "      <td>1</td>\n",
       "      <td>3086.77680</td>\n",
       "      <td>1.34</td>\n",
       "      <td>1</td>\n",
       "      <td>1440</td>\n",
       "      <td>900</td>\n",
       "      <td>0</td>\n",
       "      <td>0</td>\n",
       "      <td>8</td>\n",
       "      <td>0</td>\n",
       "      <td>1</td>\n",
       "      <td>0</td>\n",
       "      <td>0</td>\n",
       "      <td>0</td>\n",
       "      <td>0</td>\n",
       "      <td>0</td>\n",
       "      <td>256.0</td>\n",
       "    </tr>\n",
       "  </tbody>\n",
       "</table>\n",
       "</div>"
      ],
      "text/plain": [
       "   Brand  Type  Screen Size  Operating System   Price ($)  weight  gpu brand  \\\n",
       "0      1     1         13.3                 1  3568.93416    1.37          1   \n",
       "1      1     1         13.3                 1  2394.77616    1.34          1   \n",
       "2      2     2         15.6                 2  1531.80000    1.86          1   \n",
       "3      1     1         15.4                 1  6759.76680    1.83          2   \n",
       "4      1     1         13.3                 1  4804.79040    1.37          1   \n",
       "5      3     2         15.6                 3  1065.60000    2.10          2   \n",
       "6      1     1         15.4                 4  5700.88008    2.04          1   \n",
       "7      1     1         13.3                 1  3086.77680    1.34          1   \n",
       "\n",
       "   x_res  y_res  Touchscreen  IPS  RAM(GB)  i7  i5  i3  AMD  hdd    ssd  \\\n",
       "0   2560   1600            0    1        8   0   1   0    0    0  128.0   \n",
       "1   1440    900            0    0        8   0   1   0    0    0      0   \n",
       "2   1920   1080            0    0        8   0   1   0    0    0  256.0   \n",
       "3   2880   1800            0    1       16   1   0   0    0    0  512.0   \n",
       "4   2560   1600            0    1        8   0   1   0    0    0  256.0   \n",
       "5   1366    768            0    0        4   0   0   0    1  0.0      0   \n",
       "6   2880   1800            0    1       16   1   0   0    0    0      0   \n",
       "7   1440    900            0    0        8   0   1   0    0    0      0   \n",
       "\n",
       "  hybrid flash_storage  \n",
       "0      0             0  \n",
       "1      0         128.0  \n",
       "2      0             0  \n",
       "3      0             0  \n",
       "4      0             0  \n",
       "5      0             0  \n",
       "6      0         256.0  \n",
       "7      0         256.0  "
      ]
     },
     "execution_count": 103,
     "metadata": {},
     "output_type": "execute_result"
    }
   ],
   "source": [
    "df2.head(8)"
   ]
  },
  {
   "cell_type": "markdown",
   "id": "b704ca14",
   "metadata": {},
   "source": [
    "## Explory Data Analysis"
   ]
  },
  {
   "cell_type": "code",
   "execution_count": 208,
   "id": "bc147dd5",
   "metadata": {},
   "outputs": [
    {
     "data": {
      "image/png": "[encoded data removed]",
      "text/plain": [
       "<Figure size 2880x2880 with 272 Axes>"
      ]
     },
     "metadata": {
      "needs_background": "light"
     },
     "output_type": "display_data"
    }
   ],
   "source": [
    "import seaborn as sns\n",
    "import matplotlib.pyplot as plt\n",
    "\n",
    "# Basic correlogram\n",
    "sns.pairplot(df2)\n",
    "plt.show()"
   ]
  },
  {
   "cell_type": "code",
   "execution_count": 209,
   "id": "16381d90",
   "metadata": {},
   "outputs": [
    {
     "data": {
      "image/png": "[encoded data removed]",
      "text/plain": [
       "<Figure size 432x288 with 1 Axes>"
      ]
     },
     "metadata": {
      "needs_background": "light"
     },
     "output_type": "display_data"
    }
   ],
   "source": [
    "import warnings\n",
    "warnings.filterwarnings('ignore')\n",
    "sns.distplot(df2['Price ($)'])\n",
    "plt.show()"
   ]
  },
  {
   "cell_type": "code",
   "execution_count": 101,
   "id": "20a0d73f",
   "metadata": {},
   "outputs": [],
   "source": [
    "# taking the log of the price to transform to normal distribution so that the performance of the algorithm will increase. "
   ]
  },
  {
   "cell_type": "code",
   "execution_count": 102,
   "id": "fc15a3db",
   "metadata": {},
   "outputs": [
    {
     "data": {
      "image/png": "[encoded data removed]",
      "text/plain": [
       "<Figure size 432x288 with 1 Axes>"
      ]
     },
     "metadata": {
      "needs_background": "light"
     },
     "output_type": "display_data"
    }
   ],
   "source": [
    "import warnings\n",
    "warnings.filterwarnings('ignore')\n",
    "sns.distplot(np.log(df2['Price ($)']))\n",
    "plt.show()"
   ]
  },
  {
   "cell_type": "code",
   "execution_count": 103,
   "id": "6abb63ce",
   "metadata": {},
   "outputs": [
    {
     "data": {
      "text/plain": [
       "<AxesSubplot:xlabel='weight', ylabel='Price ($)'>"
      ]
     },
     "execution_count": 103,
     "metadata": {},
     "output_type": "execute_result"
    },
    {
     "data": {
      "image/png": "[encoded data removed]",
      "text/plain": [
       "<Figure size 432x288 with 1 Axes>"
      ]
     },
     "metadata": {
      "needs_background": "light"
     },
     "output_type": "display_data"
    }
   ],
   "source": [
    "sns.scatterplot(data=df, x=df2['weight'], y=df2['Price ($)'])"
   ]
  },
  {
   "cell_type": "code",
   "execution_count": 104,
   "id": "b506982d",
   "metadata": {},
   "outputs": [
    {
     "data": {
      "image/png": "[encoded data removed]",
      "text/plain": [
       "<Figure size 432x288 with 1 Axes>"
      ]
     },
     "metadata": {
      "needs_background": "light"
     },
     "output_type": "display_data"
    }
   ],
   "source": [
    "sns.barplot(x=df2['Operating System'],y=df2['Price ($)'])\n",
    "plt.xticks(rotation='vertical')\n",
    "plt.show()"
   ]
  },
  {
   "cell_type": "code",
   "execution_count": 105,
   "id": "64d45538",
   "metadata": {},
   "outputs": [
    {
     "data": {
      "image/png": "[encoded data removed]",
      "text/plain": [
       "<Figure size 432x288 with 1 Axes>"
      ]
     },
     "metadata": {
      "needs_background": "light"
     },
     "output_type": "display_data"
    }
   ],
   "source": [
    "sns.barplot(x=df2['Type'],y=df2['Price ($)'])\n",
    "plt.xticks(rotation='vertical')\n",
    "plt.show()"
   ]
  },
  {
   "cell_type": "code",
   "execution_count": 106,
   "id": "80ea9b79",
   "metadata": {},
   "outputs": [
    {
     "data": {
      "image/png": "[encoded data removed]",
      "text/plain": [
       "<Figure size 432x288 with 1 Axes>"
      ]
     },
     "metadata": {
      "needs_background": "light"
     },
     "output_type": "display_data"
    }
   ],
   "source": [
    "sns.barplot(x=df2['Brand'],y=df2['Price ($)'])\n",
    "plt.xticks(rotation='vertical')\n",
    "plt.show()"
   ]
  },
  {
   "cell_type": "code",
   "execution_count": 107,
   "id": "78a07a4c",
   "metadata": {},
   "outputs": [
    {
     "data": {
      "text/plain": [
       "<AxesSubplot:xlabel='x_res', ylabel='Price ($)'>"
      ]
     },
     "execution_count": 107,
     "metadata": {},
     "output_type": "execute_result"
    },
    {
     "data": {
      "image/png": "[encoded data removed]",
      "text/plain": [
       "<Figure size 432x288 with 1 Axes>"
      ]
     },
     "metadata": {
      "needs_background": "light"
     },
     "output_type": "display_data"
    }
   ],
   "source": [
    "sns.scatterplot(data=df2, x=df2['x_res'], y=df2['Price ($)'])"
   ]
  },
  {
   "cell_type": "code",
   "execution_count": 108,
   "id": "6b21e3dc",
   "metadata": {},
   "outputs": [
    {
     "data": {
      "text/plain": [
       "<AxesSubplot:xlabel='y_res', ylabel='Price ($)'>"
      ]
     },
     "execution_count": 108,
     "metadata": {},
     "output_type": "execute_result"
    },
    {
     "data": {
      "image/png": "[encoded data removed]",
      "text/plain": [
       "<Figure size 432x288 with 1 Axes>"
      ]
     },
     "metadata": {
      "needs_background": "light"
     },
     "output_type": "display_data"
    }
   ],
   "source": [
    "sns.scatterplot(data=df2, x=df2['y_res'], y=df2['Price ($)'])"
   ]
  },
  {
   "cell_type": "code",
   "execution_count": 109,
   "id": "9710c483",
   "metadata": {},
   "outputs": [
    {
     "data": {
      "text/plain": [
       "<AxesSubplot:xlabel='Touchscreen', ylabel='Price ($)'>"
      ]
     },
     "execution_count": 109,
     "metadata": {},
     "output_type": "execute_result"
    },
    {
     "data": {
      "image/png": "[encoded data removed]",
      "text/plain": [
       "<Figure size 432x288 with 1 Axes>"
      ]
     },
     "metadata": {
      "needs_background": "light"
     },
     "output_type": "display_data"
    }
   ],
   "source": [
    "sns.barplot(x=df2['Touchscreen'],y=df2['Price ($)'])"
   ]
  },
  {
   "cell_type": "code",
   "execution_count": 110,
   "id": "1e50dbdc",
   "metadata": {},
   "outputs": [
    {
     "data": {
      "text/plain": [
       "<AxesSubplot:xlabel='IPS', ylabel='Price ($)'>"
      ]
     },
     "execution_count": 110,
     "metadata": {},
     "output_type": "execute_result"
    },
    {
     "data": {
      "image/png": "[encoded data removed]",
      "text/plain": [
       "<Figure size 432x288 with 1 Axes>"
      ]
     },
     "metadata": {
      "needs_background": "light"
     },
     "output_type": "display_data"
    }
   ],
   "source": [
    "sns.barplot(x=df2['IPS'],y=df2['Price ($)'])"
   ]
  },
  {
   "cell_type": "code",
   "execution_count": 111,
   "id": "0f2c1a47",
   "metadata": {},
   "outputs": [
    {
     "data": {
      "image/png": "[encoded data removed]",
      "text/plain": [
       "<Figure size 432x288 with 1 Axes>"
      ]
     },
     "metadata": {
      "needs_background": "light"
     },
     "output_type": "display_data"
    }
   ],
   "source": [
    "sns.barplot(x=df2['RAM(GB)'],y=df2['Price ($)'])\n",
    "plt.xticks(rotation='vertical')\n",
    "plt.show()"
   ]
  },
  {
   "cell_type": "code",
   "execution_count": 112,
   "id": "9b97913c",
   "metadata": {},
   "outputs": [
    {
     "data": {
      "text/plain": [
       "<AxesSubplot:xlabel='i5', ylabel='Price ($)'>"
      ]
     },
     "execution_count": 112,
     "metadata": {},
     "output_type": "execute_result"
    },
    {
     "data": {
      "image/png": "[encoded data removed]",
      "text/plain": [
       "<Figure size 432x288 with 1 Axes>"
      ]
     },
     "metadata": {
      "needs_background": "light"
     },
     "output_type": "display_data"
    }
   ],
   "source": [
    "sns.barplot(x=df2['i5'],y=df2['Price ($)'])"
   ]
  },
  {
   "cell_type": "code",
   "execution_count": 113,
   "id": "4a539142",
   "metadata": {},
   "outputs": [
    {
     "data": {
      "text/plain": [
       "<AxesSubplot:xlabel='i7', ylabel='Price ($)'>"
      ]
     },
     "execution_count": 113,
     "metadata": {},
     "output_type": "execute_result"
    },
    {
     "data": {
      "image/png": "[encoded data removed]",
      "text/plain": [
       "<Figure size 432x288 with 1 Axes>"
      ]
     },
     "metadata": {
      "needs_background": "light"
     },
     "output_type": "display_data"
    }
   ],
   "source": [
    "sns.barplot(x=df2['i7'],y=df2['Price ($)'])"
   ]
  },
  {
   "cell_type": "code",
   "execution_count": 114,
   "id": "e5983613",
   "metadata": {},
   "outputs": [
    {
     "data": {
      "text/plain": [
       "<AxesSubplot:xlabel='i3', ylabel='Price ($)'>"
      ]
     },
     "execution_count": 114,
     "metadata": {},
     "output_type": "execute_result"
    },
    {
     "data": {
      "image/png": "[encoded data removed]",
      "text/plain": [
       "<Figure size 432x288 with 1 Axes>"
      ]
     },
     "metadata": {
      "needs_background": "light"
     },
     "output_type": "display_data"
    }
   ],
   "source": [
    "sns.barplot(x=df2['i3'],y=df2['Price ($)'])"
   ]
  },
  {
   "cell_type": "code",
   "execution_count": 115,
   "id": "cd166784",
   "metadata": {},
   "outputs": [
    {
     "data": {
      "text/plain": [
       "<AxesSubplot:xlabel='AMD', ylabel='Price ($)'>"
      ]
     },
     "execution_count": 115,
     "metadata": {},
     "output_type": "execute_result"
    },
    {
     "data": {
      "image/png": "[encoded data removed]",
      "text/plain": [
       "<Figure size 432x288 with 1 Axes>"
      ]
     },
     "metadata": {
      "needs_background": "light"
     },
     "output_type": "display_data"
    }
   ],
   "source": [
    "sns.barplot(x=df2['AMD'],y=df2['Price ($)'])"
   ]
  },
  {
   "cell_type": "code",
   "execution_count": 106,
   "id": "b6615562",
   "metadata": {},
   "outputs": [
    {
     "data": {
      "text/plain": [
       "<AxesSubplot:xlabel='ssd', ylabel='Price ($)'>"
      ]
     },
     "execution_count": 106,
     "metadata": {},
     "output_type": "execute_result"
    },
    {
     "data": {
      "image/png": "[encoded data removed]",
      "text/plain": [
       "<Figure size 432x288 with 1 Axes>"
      ]
     },
     "metadata": {
      "needs_background": "light"
     },
     "output_type": "display_data"
    }
   ],
   "source": [
    "sns.scatterplot(data=df2, x=df2['ssd'], y=df2['Price ($)'])"
   ]
  },
  {
   "cell_type": "code",
   "execution_count": 107,
   "id": "88b2fda3",
   "metadata": {},
   "outputs": [
    {
     "data": {
      "text/plain": [
       "Price ($)           1.000000\n",
       "RAM(GB)             0.741561\n",
       "i7                  0.555561\n",
       "x_res               0.554456\n",
       "y_res               0.550575\n",
       "Type                0.296687\n",
       "gpu brand           0.281155\n",
       "IPS                 0.248608\n",
       "weight              0.212998\n",
       "Touchscreen         0.191837\n",
       "Brand               0.150547\n",
       "Screen Size         0.069650\n",
       "Operating System    0.028163\n",
       "i5                 -0.109186\n",
       "AMD                -0.179428\n",
       "i3                 -0.281951\n",
       "Name: Price ($), dtype: float64"
      ]
     },
     "execution_count": 107,
     "metadata": {},
     "output_type": "execute_result"
    }
   ],
   "source": [
    "df2.corr()['Price ($)'].sort_values(ascending=False)"
   ]
  },
  {
   "cell_type": "raw",
   "id": "0c8e7579",
   "metadata": {},
   "source": [
    "Is it possible to say something about which features the model considersimportant? \n",
    "yes by looking at the correlation. I drop features which have negative correlation with the price"
   ]
  },
  {
   "cell_type": "code",
   "execution_count": 108,
   "id": "0dcfb1e9",
   "metadata": {},
   "outputs": [
    {
     "data": {
      "text/html": [
       "<div>\n",
       "<style scoped>\n",
       "    .dataframe tbody tr th:only-of-type {\n",
       "        vertical-align: middle;\n",
       "    }\n",
       "\n",
       "    .dataframe tbody tr th {\n",
       "        vertical-align: top;\n",
       "    }\n",
       "\n",
       "    .dataframe thead th {\n",
       "        text-align: right;\n",
       "    }\n",
       "</style>\n",
       "<table border=\"1\" class=\"dataframe\">\n",
       "  <thead>\n",
       "    <tr style=\"text-align: right;\">\n",
       "      <th></th>\n",
       "      <th>Brand</th>\n",
       "      <th>Type</th>\n",
       "      <th>Screen Size</th>\n",
       "      <th>Operating System</th>\n",
       "      <th>Price ($)</th>\n",
       "      <th>weight</th>\n",
       "      <th>gpu brand</th>\n",
       "      <th>x_res</th>\n",
       "      <th>y_res</th>\n",
       "      <th>Touchscreen</th>\n",
       "      <th>IPS</th>\n",
       "      <th>RAM(GB)</th>\n",
       "      <th>i7</th>\n",
       "      <th>i5</th>\n",
       "      <th>i3</th>\n",
       "      <th>AMD</th>\n",
       "      <th>hdd</th>\n",
       "      <th>ssd</th>\n",
       "      <th>hybrid</th>\n",
       "      <th>flash_storage</th>\n",
       "    </tr>\n",
       "  </thead>\n",
       "  <tbody>\n",
       "    <tr>\n",
       "      <th>0</th>\n",
       "      <td>1</td>\n",
       "      <td>1</td>\n",
       "      <td>13.3</td>\n",
       "      <td>1</td>\n",
       "      <td>3568.93416</td>\n",
       "      <td>1.37</td>\n",
       "      <td>1</td>\n",
       "      <td>2560</td>\n",
       "      <td>1600</td>\n",
       "      <td>0</td>\n",
       "      <td>1</td>\n",
       "      <td>8</td>\n",
       "      <td>0</td>\n",
       "      <td>1</td>\n",
       "      <td>0</td>\n",
       "      <td>0</td>\n",
       "      <td>0</td>\n",
       "      <td>128.0</td>\n",
       "      <td>0</td>\n",
       "      <td>0</td>\n",
       "    </tr>\n",
       "    <tr>\n",
       "      <th>1</th>\n",
       "      <td>1</td>\n",
       "      <td>1</td>\n",
       "      <td>13.3</td>\n",
       "      <td>1</td>\n",
       "      <td>2394.77616</td>\n",
       "      <td>1.34</td>\n",
       "      <td>1</td>\n",
       "      <td>1440</td>\n",
       "      <td>900</td>\n",
       "      <td>0</td>\n",
       "      <td>0</td>\n",
       "      <td>8</td>\n",
       "      <td>0</td>\n",
       "      <td>1</td>\n",
       "      <td>0</td>\n",
       "      <td>0</td>\n",
       "      <td>0</td>\n",
       "      <td>0</td>\n",
       "      <td>0</td>\n",
       "      <td>128.0</td>\n",
       "    </tr>\n",
       "    <tr>\n",
       "      <th>2</th>\n",
       "      <td>2</td>\n",
       "      <td>2</td>\n",
       "      <td>15.6</td>\n",
       "      <td>2</td>\n",
       "      <td>1531.80000</td>\n",
       "      <td>1.86</td>\n",
       "      <td>1</td>\n",
       "      <td>1920</td>\n",
       "      <td>1080</td>\n",
       "      <td>0</td>\n",
       "      <td>0</td>\n",
       "      <td>8</td>\n",
       "      <td>0</td>\n",
       "      <td>1</td>\n",
       "      <td>0</td>\n",
       "      <td>0</td>\n",
       "      <td>0</td>\n",
       "      <td>256.0</td>\n",
       "      <td>0</td>\n",
       "      <td>0</td>\n",
       "    </tr>\n",
       "    <tr>\n",
       "      <th>3</th>\n",
       "      <td>1</td>\n",
       "      <td>1</td>\n",
       "      <td>15.4</td>\n",
       "      <td>1</td>\n",
       "      <td>6759.76680</td>\n",
       "      <td>1.83</td>\n",
       "      <td>2</td>\n",
       "      <td>2880</td>\n",
       "      <td>1800</td>\n",
       "      <td>0</td>\n",
       "      <td>1</td>\n",
       "      <td>16</td>\n",
       "      <td>1</td>\n",
       "      <td>0</td>\n",
       "      <td>0</td>\n",
       "      <td>0</td>\n",
       "      <td>0</td>\n",
       "      <td>512.0</td>\n",
       "      <td>0</td>\n",
       "      <td>0</td>\n",
       "    </tr>\n",
       "  </tbody>\n",
       "</table>\n",
       "</div>"
      ],
      "text/plain": [
       "   Brand  Type  Screen Size  Operating System   Price ($)  weight  gpu brand  \\\n",
       "0      1     1         13.3                 1  3568.93416    1.37          1   \n",
       "1      1     1         13.3                 1  2394.77616    1.34          1   \n",
       "2      2     2         15.6                 2  1531.80000    1.86          1   \n",
       "3      1     1         15.4                 1  6759.76680    1.83          2   \n",
       "\n",
       "   x_res  y_res  Touchscreen  IPS  RAM(GB)  i7  i5  i3  AMD hdd    ssd hybrid  \\\n",
       "0   2560   1600            0    1        8   0   1   0    0   0  128.0      0   \n",
       "1   1440    900            0    0        8   0   1   0    0   0      0      0   \n",
       "2   1920   1080            0    0        8   0   1   0    0   0  256.0      0   \n",
       "3   2880   1800            0    1       16   1   0   0    0   0  512.0      0   \n",
       "\n",
       "  flash_storage  \n",
       "0             0  \n",
       "1         128.0  \n",
       "2             0  \n",
       "3             0  "
      ]
     },
     "execution_count": 108,
     "metadata": {},
     "output_type": "execute_result"
    }
   ],
   "source": [
    "df2.head(4)"
   ]
  },
  {
   "cell_type": "raw",
   "id": "941a1b18",
   "metadata": {},
   "source": [
    "How do you represent your data as features?\n",
    "I drop useless features. I assign X to the remaining features. X represents my features"
   ]
  },
  {
   "cell_type": "code",
   "execution_count": 109,
   "id": "bd8b7eeb",
   "metadata": {},
   "outputs": [],
   "source": [
    "# However, I have already dropped all useless features and there are no more features to be dropped"
   ]
  },
  {
   "cell_type": "code",
   "execution_count": 110,
   "id": "54e59f1d",
   "metadata": {},
   "outputs": [],
   "source": [
    "y = np.log(df2['Price ($)'].values)\n",
    "X = df2.drop('Price ($)',axis = 1).values"
   ]
  },
  {
   "cell_type": "markdown",
   "id": "ee53dc67",
   "metadata": {},
   "source": [
    "# MODEL SELECTION"
   ]
  },
  {
   "cell_type": "code",
   "execution_count": 148,
   "id": "e931672b",
   "metadata": {},
   "outputs": [],
   "source": [
    "from sklearn.metrics import mean_squared_error, r2_score, median_absolute_error"
   ]
  },
  {
   "cell_type": "markdown",
   "id": "ae2a98ca",
   "metadata": {},
   "source": [
    "## Linear Regression"
   ]
  },
  {
   "cell_type": "code",
   "execution_count": 114,
   "id": "3d23cbef",
   "metadata": {},
   "outputs": [
    {
     "name": "stdout",
     "output_type": "stream",
     "text": [
      "R^2: 0.7702193910328249\n",
      "Root Mean Squared Error: 0.29995448097864963\n",
      "Mean Squared Error: 0.08997269065917109\n"
     ]
    }
   ],
   "source": [
    "# linear regression \n",
    "from sklearn.model_selection import train_test_split\n",
    "from sklearn.linear_model import LinearRegression\n",
    "from sklearn.metrics import mean_squared_error\n",
    "X_train , X_test , y_train , y_test = train_test_split (X, y ,test_size =0.3 , random_state = 42)\n",
    "reg_all = LinearRegression( )\n",
    "reg_all.fit(X_train , y_train )\n",
    "y_pred = reg_all.predict(X_test )\n",
    "print(\"R^2: {}\".format(reg_all.score(X_test, y_test)))\n",
    "rmse = np.sqrt(mean_squared_error(y_test,y_pred))\n",
    "print(\"Root Mean Squared Error: {}\".format(rmse))\n",
    "print(\"Mean Squared Error: {}\".format(mean_squared_error(y_test,y_pred)))"
   ]
  },
  {
   "cell_type": "markdown",
   "id": "fbd052d9",
   "metadata": {},
   "source": [
    "## Support Vector Regression"
   ]
  },
  {
   "cell_type": "code",
   "execution_count": 112,
   "id": "a80d8c87",
   "metadata": {},
   "outputs": [
    {
     "name": "stdout",
     "output_type": "stream",
     "text": [
      "0.14632307497181843\n",
      "0.626306548946729\n"
     ]
    }
   ],
   "source": [
    "# Support Vector Regression\n",
    "import numpy as np\n",
    "from sklearn.svm import SVR\n",
    "# fit a Support Vector Regression model to the data\n",
    "X_train,X_test,y_train,y_test = train_test_split (X, y ,test_size =0.3 , random_state = 42,stratify )\n",
    "svr = SVR()\n",
    "svr.fit(X_train,y_train)\n",
    "y_pred = svr.predict(X_test)\n",
    "print((mean_squared_error(y_test,y_pred)))\n",
    "print(svr.score(X_test,y_test))"
   ]
  },
  {
   "cell_type": "markdown",
   "id": "22223686",
   "metadata": {},
   "source": [
    "## Decision Tree Regression"
   ]
  },
  {
   "cell_type": "code",
   "execution_count": 132,
   "id": "533768cd",
   "metadata": {},
   "outputs": [
    {
     "name": "stdout",
     "output_type": "stream",
     "text": [
      "0.003751186560551147\n",
      "0.9902433982097465\n"
     ]
    }
   ],
   "source": [
    "Regression Tree\n",
    "import numpy as np\n",
    "from sklearn.tree import DecisionTreeRegressor\n",
    "X_train,X_test,y_train,y_test = train_test_split (X, y ,test_size =0.3 , random_state = 42 )\n",
    "# fit a Regression Tree model to the data\n",
    "dt = DecisionTreeRegressor()\n",
    "dt.fit(X_train,y_train)\n",
    "y_pred = dt.predict(X_test)\n",
    "print((mean_squared_error(y_test,y_pred)))\n",
    "print(dt.score(X_test,y_test))\n"
   ]
  },
  {
   "cell_type": "markdown",
   "id": "8364d6ac",
   "metadata": {},
   "source": [
    "## Random Forest Regression"
   ]
  },
  {
   "cell_type": "code",
   "execution_count": 139,
   "id": "b6e7ed29",
   "metadata": {},
   "outputs": [
    {
     "name": "stdout",
     "output_type": "stream",
     "text": [
      "0.14924254404311793\n",
      "0.611829470785068\n"
     ]
    }
   ],
   "source": [
    "# Random forest regressor\n",
    "from sklearn.ensemble import RandomForestRegressor\n",
    "X_train,X_test,y_train,y_test = train_test_split (X, y ,test_size =0.3 , random_state = 42 )\n",
    "regr = RandomForestRegressor(max_depth=2, random_state=0)\n",
    "regr.fit(X_train, y_train)\n",
    "y_pred = regr.predict(X_test)\n",
    "print((mean_squared_error(y_test,y_pred)))\n",
    "print(regr.score(X_test,y_test))"
   ]
  },
  {
   "cell_type": "raw",
   "id": "0de5950b",
   "metadata": {},
   "source": [
    "How do you evaluate the quality of your system?\n",
    "I check the r2 score as well as the mean squared error (mse)\n",
    "Higher r2 scores are better and mse values closer to 0 are better"
   ]
  },
  {
   "cell_type": "raw",
   "id": "2abd6a17",
   "metadata": {},
   "source": [
    "How did you select which learning algorithms to use?\n",
    "I observe the r2 score and the mse. Decision Tree has the highest r2 score and lowest mse so I will be using Decision Tree Regression"
   ]
  },
  {
   "cell_type": "raw",
   "id": "c7051e12",
   "metadata": {},
   "source": [
    "Did you try to tune the hyperparameters of the learning algorithm, and in that case how?\n",
    "Yes, I used a pipeline on the DecisionTreeRegressor and used StandardScaler() to scale the data. Using this pipeline, a 10-fold cross-validation was done."
   ]
  },
  {
   "cell_type": "code",
   "execution_count": 132,
   "id": "0c24b088",
   "metadata": {},
   "outputs": [
    {
     "name": "stdout",
     "output_type": "stream",
     "text": [
      "Tuned Decision Tree param: {'DT__max_depth': 8, 'DT__min_samples_leaf': 0.04}\n",
      "Tuned Decision R^2: 0.7714682667024615\n",
      "Tuned Decision Tree MSE: 0.08948368201392015\n"
     ]
    }
   ],
   "source": [
    "# hyperparameter tuning on hold out set\n",
    "from sklearn.tree import DecisionTreeRegressor\n",
    "from sklearn.metrics import mean_squared_error\n",
    "from sklearn.model_selection import GridSearchCV, train_test_split\n",
    "\n",
    "steps = [('scaler', StandardScaler()),\n",
    "         ('DT', DecisionTreeRegressor())]\n",
    "\n",
    "pipeline = Pipeline(steps)\n",
    "\n",
    "params = {\n",
    "    'DT__max_depth':  [2, 4, 6, 8, 10],\n",
    "    'DT__min_samples_leaf': [0.04,0.06,0.08,0.1,0.12, 0.14, 0.16, 0.18],\n",
    "\n",
    "}\n",
    "\n",
    "\n",
    "X_train, X_test, y_train, y_test = train_test_split(X, y, test_size=0.3, random_state=42)\n",
    "\n",
    "\n",
    "dt = GridSearchCV(pipeline,param_grid=params,cv=10)\n",
    "\n",
    "dt.fit(X_train, y_train)\n",
    "\n",
    "# Predict the labels of the test set: y_pred\n",
    "y_pred = dt.predict(X_test)\n",
    "r2 = dt.score(X_test, y_test)\n",
    "mse = mean_squared_error(y_test, y_pred)\n",
    "\n",
    "print(\"Tuned Decision Tree param: {}\".format(dt.best_params_))\n",
    "print(\"Tuned Decision R^2: {}\".format(r2))\n",
    "print(\"Tuned Decision Tree MSE: {}\".format(mse))"
   ]
  },
  {
   "cell_type": "code",
   "execution_count": 133,
   "id": "99290a0a",
   "metadata": {},
   "outputs": [
    {
     "data": {
      "text/plain": [
       "array([0.77095341, 0.78214388, 0.77666642, 0.77634357, 0.76494086,\n",
       "       0.77098119, 0.78213624, 0.77666736, 0.77632461, 0.76491585])"
      ]
     },
     "execution_count": 133,
     "metadata": {},
     "output_type": "execute_result"
    }
   ],
   "source": [
    "from sklearn.model_selection import cross_val_score\n",
    "cross_val_score(dt,X,y,cv=10)"
   ]
  },
  {
   "cell_type": "code",
   "execution_count": null,
   "id": "adfc3df6",
   "metadata": {},
   "outputs": [],
   "source": [
    "the cross validation scores are  decently high indicating that the model perfroms well on unseen data but it is not too high \n",
    "and this might be due to overfitting"
   ]
  },
  {
   "cell_type": "code",
   "execution_count": null,
   "id": "5cf39411",
   "metadata": {},
   "outputs": [],
   "source": [
    "# fitting in the best params"
   ]
  },
  {
   "cell_type": "code",
   "execution_count": 134,
   "id": "14450c19",
   "metadata": {},
   "outputs": [
    {
     "name": "stdout",
     "output_type": "stream",
     "text": [
      "Test set RMSE of dt: 0.30\n",
      "Test set MSE of dt: 0.09\n",
      "Test Set R^2 of dt: 0.7714682667024614\n"
     ]
    }
   ],
   "source": [
    "# Import DecisionTreeRegressor from sklearn.tree\n",
    "from sklearn.tree import DecisionTreeRegressor\n",
    "\n",
    "# Instantiate dt\n",
    "dt = DecisionTreeRegressor(max_depth=10,\n",
    "                           min_samples_leaf=0.04,\n",
    "                           random_state=3)\n",
    "X_train, X_test, y_train, y_test = train_test_split(X, y, test_size=0.3, random_state=42)\n",
    "\n",
    "# Fit dt to the training set\n",
    "dt.fit(X_train, y_train)\n",
    "\n",
    "# Import mean_squared_error from sklearn.metrics as MSE\n",
    "from sklearn.metrics import mean_squared_error as MSE\n",
    "\n",
    "# Compute y_pred\n",
    "y_pred = dt.predict(X_test)\n",
    "\n",
    "# Compute mse_dt\n",
    "mse_dt = mean_squared_error(y_test, y_pred)\n",
    "\n",
    "# Compute rmse_dt\n",
    "rmse_dt = mse_dt**(1/2)\n",
    "\n",
    "r2 = dt.score(X_test,y_test)\n",
    "\n",
    "# Print rmse_dt\n",
    "print(\"Test set RMSE of dt: {:.2f}\".format(rmse_dt))\n",
    "print(\"Test set MSE of dt: {:.2f}\".format(mse_dt))\n",
    "print(\"Test Set R^2 of dt: {}\".format(r2))"
   ]
  },
  {
   "cell_type": "code",
   "execution_count": 127,
   "id": "cc06e904",
   "metadata": {},
   "outputs": [
    {
     "name": "stdout",
     "output_type": "stream",
     "text": [
      "r2_score (dummy mean): -0.00\n"
     ]
    }
   ],
   "source": [
    "import numpy as np\n",
    "from sklearn.dummy import DummyRegressor\n",
    "from sklearn.metrics import r2_score\n",
    "X_train,X_test,y_train,y_test = train_test_split (X, y ,test_size =0.3 , random_state = 42)\n",
    "dummy_regr = DummyRegressor(strategy=\"mean\").fit(X_train, y_train)\n",
    "dummy_regr.score(X, y)\n",
    "y_predict_dummy_regr = dummy_regr.predict(X_test)\n",
    "print(\"r2_score (dummy mean): {:.2f}\".format(r2_score(y_test, y_predict_dummy_regr)))"
   ]
  },
  {
   "cell_type": "code",
   "execution_count": null,
   "id": "441f344e",
   "metadata": {},
   "outputs": [],
   "source": [
    "# How well does your system compare to a stupid baseline\n",
    "If comapred to the stupid, baseline, my model is preforming well. The r2 score after doing hypeparameter tuning is lower than\n",
    "before tuning as it is no longer overfitted. The r2 score is 0.99 likely due ot overfitting. Hence, DecisionTreeRegressor is the\n",
    "best model for this prediction task"
   ]
  }
 ],
 "metadata": {
  "kernelspec": {
   "display_name": "Python 3 (ipykernel)",
   "language": "python",
   "name": "python3"
  },
  "language_info": {
   "codemirror_mode": {
    "name": "ipython",
    "version": 3
   },
   "file_extension": ".py",
   "mimetype": "text/x-python",
   "name": "python",
   "nbconvert_exporter": "python",
   "pygments_lexer": "ipython3",
   "version": "3.8.8"
  }
 },
 "nbformat": 4,
 "nbformat_minor": 5
}
